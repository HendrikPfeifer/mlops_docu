{
 "cells": [
  {
   "cell_type": "markdown",
   "metadata": {},
   "source": [
    "# Business Case\n",
    "\n",
    "## Here you can find the business case for the \"Used car prices\".\n",
    "\n",
    "\n",
    "The goal is to use the \"used car prices\"-dataset to create models that can predict the price of a used car using random variables. The whole tool should then be deployed in a web-app to be used for example by a used car dealer and their customers. "
   ]
  }
 ],
 "metadata": {
  "language_info": {
   "name": "python"
  },
  "orig_nbformat": 4
 },
 "nbformat": 4,
 "nbformat_minor": 2
}
