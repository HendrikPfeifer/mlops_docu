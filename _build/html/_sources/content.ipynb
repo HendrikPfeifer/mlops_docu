{
 "cells": [
  {
   "cell_type": "markdown",
   "metadata": {},
   "source": [
    "# Content of the documentation\n",
    "\n",
    "#### Below you can find the full MLOps-documentation.\n",
    "\n",
    "\n",
    "## Goal of the project:\n",
    "\n",
    "#### To develop a prototype dashboard containing a sensitivity analysis which could be used from a business user to easily simulate different scenarios and to understand the effect in a model-agnostic way."
   ]
  }
 ],
 "metadata": {
  "language_info": {
   "name": "python"
  },
  "orig_nbformat": 4
 },
 "nbformat": 4,
 "nbformat_minor": 2
}
