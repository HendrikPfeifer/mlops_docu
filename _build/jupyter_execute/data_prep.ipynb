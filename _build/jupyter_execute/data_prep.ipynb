{
 "cells": [
  {
   "cell_type": "markdown",
   "metadata": {},
   "source": [
    "# Create data prep file"
   ]
  },
  {
   "cell_type": "code",
   "execution_count": 1,
   "metadata": {},
   "outputs": [],
   "source": [
    "_data_preparation_file = 'car_prices_data_prep.py'"
   ]
  },
  {
   "cell_type": "code",
   "execution_count": 2,
   "metadata": {},
   "outputs": [
    {
     "name": "stdout",
     "output_type": "stream",
     "text": [
      "Overwriting car_prices_data_prep.py\n"
     ]
    }
   ],
   "source": [
    "%%writefile {_data_preparation_file}\n",
    "\n",
    "# load packages\n",
    "import pandas as pd\n",
    "\n",
    "# import dataset \n",
    "raw_dataset = pd.read_csv(\"car_prices.csv\", on_bad_lines=\"skip\")\n",
    "\n",
    "df = raw_dataset.copy()\n",
    "\n",
    "# drop column with too many missing values\n",
    "df = df.drop(['transmission'], axis=1)\n",
    "\n",
    "# drop remaining row with one missing value\n",
    "df = df.dropna()\n",
    "\n",
    "# Drop irrelevant features\n",
    "df = df.drop(['trim', 'vin', 'mmr'], axis=1)\n",
    "\n",
    "# rename columns\n",
    "df = df.rename(columns={\n",
    "\"make\" : \"brand\",\n",
    "\"body\" : \"type\",\n",
    "\"odometer\" : \"miles\"} \n",
    "    )\n",
    "\n",
    "# transform into lowercase\n",
    "df[\"brand\"] = df[\"brand\"].str.lower()\n",
    "df[\"model\"] = df[\"model\"].str.lower()\n",
    "df[\"type\"] = df[\"type\"].str.lower()\n",
    "\n",
    "# convert data types\n",
    "for cat in [\"year\", \"brand\", \"model\", \"type\", \"state\", \"condition\", \"color\", \"interior\", \"seller\", \"saledate\"]:\n",
    "    df[cat] = df[cat].astype(\"category\")\n",
    "\n"
   ]
  },
  {
   "cell_type": "markdown",
   "metadata": {},
   "source": []
  }
 ],
 "metadata": {
  "interpreter": {
   "hash": "335060b61a67eb4c401d5f3f6b1f258d6cc22aa566029d9507a631182a43c50d"
  },
  "kernelspec": {
   "display_name": "Python 3.9.7",
   "language": "python",
   "name": "python3"
  },
  "language_info": {
   "codemirror_mode": {
    "name": "ipython",
    "version": 3
   },
   "file_extension": ".py",
   "mimetype": "text/x-python",
   "name": "python",
   "nbconvert_exporter": "python",
   "pygments_lexer": "ipython3",
   "version": "3.7.11"
  }
 },
 "nbformat": 4,
 "nbformat_minor": 2
}