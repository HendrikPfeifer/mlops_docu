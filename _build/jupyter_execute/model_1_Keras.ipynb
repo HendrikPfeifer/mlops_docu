{
 "cells": [
  {
   "cell_type": "markdown",
   "metadata": {},
   "source": [
    "# Load Packages"
   ]
  },
  {
   "cell_type": "code",
   "execution_count": 1,
   "metadata": {},
   "outputs": [
    {
     "ename": "ModuleNotFoundError",
     "evalue": "No module named 'tensorflow'",
     "output_type": "error",
     "traceback": [
      "\u001b[0;31m---------------------------------------------------------------------------\u001b[0m",
      "\u001b[0;31mModuleNotFoundError\u001b[0m                       Traceback (most recent call last)",
      "\u001b[0;32m/var/folders/9r/ym9jxwt15b70q43zrdvqgmdh0000gn/T/ipykernel_24397/510114073.py\u001b[0m in \u001b[0;36m<module>\u001b[0;34m\u001b[0m\n\u001b[1;32m      2\u001b[0m \u001b[0;32mimport\u001b[0m \u001b[0mpandas\u001b[0m \u001b[0;32mas\u001b[0m \u001b[0mpd\u001b[0m\u001b[0;34m\u001b[0m\u001b[0;34m\u001b[0m\u001b[0m\n\u001b[1;32m      3\u001b[0m \u001b[0;34m\u001b[0m\u001b[0m\n\u001b[0;32m----> 4\u001b[0;31m \u001b[0;32mimport\u001b[0m \u001b[0mtensorflow\u001b[0m \u001b[0;32mas\u001b[0m \u001b[0mtf\u001b[0m\u001b[0;34m\u001b[0m\u001b[0;34m\u001b[0m\u001b[0m\n\u001b[0m\u001b[1;32m      5\u001b[0m \u001b[0;32mfrom\u001b[0m \u001b[0mtensorflow\u001b[0m\u001b[0;34m.\u001b[0m\u001b[0mkeras\u001b[0m \u001b[0;32mimport\u001b[0m \u001b[0mlayers\u001b[0m\u001b[0;34m\u001b[0m\u001b[0;34m\u001b[0m\u001b[0m\n\u001b[1;32m      6\u001b[0m \u001b[0;34m\u001b[0m\u001b[0m\n",
      "\u001b[0;31mModuleNotFoundError\u001b[0m: No module named 'tensorflow'"
     ]
    }
   ],
   "source": [
    "import numpy as np\n",
    "import pandas as pd\n",
    "\n",
    "import tensorflow as tf\n",
    "from tensorflow.keras import layers\n",
    "\n",
    "tf.__version__"
   ]
  },
  {
   "cell_type": "code",
   "execution_count": 3,
   "metadata": {},
   "outputs": [],
   "source": [
    "# import dataset \n",
    "raw_dataset = pd.read_csv(\"car_prices.csv\", on_bad_lines=\"skip\")\n"
   ]
  },
  {
   "cell_type": "code",
   "execution_count": 4,
   "metadata": {},
   "outputs": [],
   "source": [
    "df = raw_dataset.copy()"
   ]
  },
  {
   "cell_type": "code",
   "execution_count": 5,
   "metadata": {},
   "outputs": [
    {
     "data": {
      "text/html": [
       "<div>\n",
       "<style scoped>\n",
       "    .dataframe tbody tr th:only-of-type {\n",
       "        vertical-align: middle;\n",
       "    }\n",
       "\n",
       "    .dataframe tbody tr th {\n",
       "        vertical-align: top;\n",
       "    }\n",
       "\n",
       "    .dataframe thead th {\n",
       "        text-align: right;\n",
       "    }\n",
       "</style>\n",
       "<table border=\"1\" class=\"dataframe\">\n",
       "  <thead>\n",
       "    <tr style=\"text-align: right;\">\n",
       "      <th></th>\n",
       "      <th>year</th>\n",
       "      <th>make</th>\n",
       "      <th>model</th>\n",
       "      <th>trim</th>\n",
       "      <th>body</th>\n",
       "      <th>transmission</th>\n",
       "      <th>vin</th>\n",
       "      <th>state</th>\n",
       "      <th>condition</th>\n",
       "      <th>odometer</th>\n",
       "      <th>color</th>\n",
       "      <th>interior</th>\n",
       "      <th>seller</th>\n",
       "      <th>mmr</th>\n",
       "      <th>sellingprice</th>\n",
       "      <th>saledate</th>\n",
       "    </tr>\n",
       "  </thead>\n",
       "  <tbody>\n",
       "    <tr>\n",
       "      <th>0</th>\n",
       "      <td>2015</td>\n",
       "      <td>Kia</td>\n",
       "      <td>Sorento</td>\n",
       "      <td>LX</td>\n",
       "      <td>SUV</td>\n",
       "      <td>automatic</td>\n",
       "      <td>5xyktca69fg566472</td>\n",
       "      <td>ca</td>\n",
       "      <td>5.0</td>\n",
       "      <td>16639.0</td>\n",
       "      <td>white</td>\n",
       "      <td>black</td>\n",
       "      <td>kia motors america, inc</td>\n",
       "      <td>20500</td>\n",
       "      <td>21500</td>\n",
       "      <td>Tue Dec 16 2014 12:30:00 GMT-0800 (PST)</td>\n",
       "    </tr>\n",
       "    <tr>\n",
       "      <th>1</th>\n",
       "      <td>2015</td>\n",
       "      <td>Kia</td>\n",
       "      <td>Sorento</td>\n",
       "      <td>LX</td>\n",
       "      <td>SUV</td>\n",
       "      <td>automatic</td>\n",
       "      <td>5xyktca69fg561319</td>\n",
       "      <td>ca</td>\n",
       "      <td>5.0</td>\n",
       "      <td>9393.0</td>\n",
       "      <td>white</td>\n",
       "      <td>beige</td>\n",
       "      <td>kia motors america, inc</td>\n",
       "      <td>20800</td>\n",
       "      <td>21500</td>\n",
       "      <td>Tue Dec 16 2014 12:30:00 GMT-0800 (PST)</td>\n",
       "    </tr>\n",
       "    <tr>\n",
       "      <th>2</th>\n",
       "      <td>2014</td>\n",
       "      <td>BMW</td>\n",
       "      <td>3 Series</td>\n",
       "      <td>328i SULEV</td>\n",
       "      <td>Sedan</td>\n",
       "      <td>automatic</td>\n",
       "      <td>wba3c1c51ek116351</td>\n",
       "      <td>ca</td>\n",
       "      <td>4.5</td>\n",
       "      <td>1331.0</td>\n",
       "      <td>gray</td>\n",
       "      <td>black</td>\n",
       "      <td>financial services remarketing (lease)</td>\n",
       "      <td>31900</td>\n",
       "      <td>30000</td>\n",
       "      <td>Thu Jan 15 2015 04:30:00 GMT-0800 (PST)</td>\n",
       "    </tr>\n",
       "    <tr>\n",
       "      <th>3</th>\n",
       "      <td>2015</td>\n",
       "      <td>Volvo</td>\n",
       "      <td>S60</td>\n",
       "      <td>T5</td>\n",
       "      <td>Sedan</td>\n",
       "      <td>automatic</td>\n",
       "      <td>yv1612tb4f1310987</td>\n",
       "      <td>ca</td>\n",
       "      <td>4.1</td>\n",
       "      <td>14282.0</td>\n",
       "      <td>white</td>\n",
       "      <td>black</td>\n",
       "      <td>volvo na rep/world omni</td>\n",
       "      <td>27500</td>\n",
       "      <td>27750</td>\n",
       "      <td>Thu Jan 29 2015 04:30:00 GMT-0800 (PST)</td>\n",
       "    </tr>\n",
       "    <tr>\n",
       "      <th>4</th>\n",
       "      <td>2014</td>\n",
       "      <td>BMW</td>\n",
       "      <td>6 Series Gran Coupe</td>\n",
       "      <td>650i</td>\n",
       "      <td>Sedan</td>\n",
       "      <td>automatic</td>\n",
       "      <td>wba6b2c57ed129731</td>\n",
       "      <td>ca</td>\n",
       "      <td>4.3</td>\n",
       "      <td>2641.0</td>\n",
       "      <td>gray</td>\n",
       "      <td>black</td>\n",
       "      <td>financial services remarketing (lease)</td>\n",
       "      <td>66000</td>\n",
       "      <td>67000</td>\n",
       "      <td>Thu Dec 18 2014 12:30:00 GMT-0800 (PST)</td>\n",
       "    </tr>\n",
       "  </tbody>\n",
       "</table>\n",
       "</div>"
      ],
      "text/plain": [
       "   year   make                model        trim   body transmission  \\\n",
       "0  2015    Kia              Sorento          LX    SUV    automatic   \n",
       "1  2015    Kia              Sorento          LX    SUV    automatic   \n",
       "2  2014    BMW             3 Series  328i SULEV  Sedan    automatic   \n",
       "3  2015  Volvo                  S60          T5  Sedan    automatic   \n",
       "4  2014    BMW  6 Series Gran Coupe        650i  Sedan    automatic   \n",
       "\n",
       "                 vin state  condition  odometer  color interior  \\\n",
       "0  5xyktca69fg566472    ca        5.0   16639.0  white    black   \n",
       "1  5xyktca69fg561319    ca        5.0    9393.0  white    beige   \n",
       "2  wba3c1c51ek116351    ca        4.5    1331.0   gray    black   \n",
       "3  yv1612tb4f1310987    ca        4.1   14282.0  white    black   \n",
       "4  wba6b2c57ed129731    ca        4.3    2641.0   gray    black   \n",
       "\n",
       "                                   seller    mmr  sellingprice  \\\n",
       "0                 kia motors america, inc  20500         21500   \n",
       "1                 kia motors america, inc  20800         21500   \n",
       "2  financial services remarketing (lease)  31900         30000   \n",
       "3                 volvo na rep/world omni  27500         27750   \n",
       "4  financial services remarketing (lease)  66000         67000   \n",
       "\n",
       "                                  saledate  \n",
       "0  Tue Dec 16 2014 12:30:00 GMT-0800 (PST)  \n",
       "1  Tue Dec 16 2014 12:30:00 GMT-0800 (PST)  \n",
       "2  Thu Jan 15 2015 04:30:00 GMT-0800 (PST)  \n",
       "3  Thu Jan 29 2015 04:30:00 GMT-0800 (PST)  \n",
       "4  Thu Dec 18 2014 12:30:00 GMT-0800 (PST)  "
      ]
     },
     "execution_count": 5,
     "metadata": {},
     "output_type": "execute_result"
    }
   ],
   "source": [
    "df.head()"
   ]
  },
  {
   "cell_type": "code",
   "execution_count": 6,
   "metadata": {},
   "outputs": [
    {
     "name": "stdout",
     "output_type": "stream",
     "text": [
      "<class 'pandas.core.frame.DataFrame'>\n",
      "RangeIndex: 558811 entries, 0 to 558810\n",
      "Data columns (total 16 columns):\n",
      " #   Column        Non-Null Count   Dtype  \n",
      "---  ------        --------------   -----  \n",
      " 0   year          558811 non-null  int64  \n",
      " 1   make          548510 non-null  object \n",
      " 2   model         548412 non-null  object \n",
      " 3   trim          548160 non-null  object \n",
      " 4   body          545616 non-null  object \n",
      " 5   transmission  493458 non-null  object \n",
      " 6   vin           558811 non-null  object \n",
      " 7   state         558811 non-null  object \n",
      " 8   condition     547017 non-null  float64\n",
      " 9   odometer      558717 non-null  float64\n",
      " 10  color         558062 non-null  object \n",
      " 11  interior      558062 non-null  object \n",
      " 12  seller        558811 non-null  object \n",
      " 13  mmr           558811 non-null  int64  \n",
      " 14  sellingprice  558811 non-null  int64  \n",
      " 15  saledate      558811 non-null  object \n",
      "dtypes: float64(2), int64(3), object(11)\n",
      "memory usage: 68.2+ MB\n"
     ]
    }
   ],
   "source": [
    "df.info()"
   ]
  },
  {
   "cell_type": "code",
   "execution_count": 7,
   "metadata": {},
   "outputs": [],
   "source": [
    "# drop column with too many missing values\n",
    "df = df.drop(['transmission'], axis=1)"
   ]
  },
  {
   "cell_type": "code",
   "execution_count": 8,
   "metadata": {},
   "outputs": [],
   "source": [
    "# drop remaining row with one missing value\n",
    "df = df.dropna()"
   ]
  },
  {
   "cell_type": "code",
   "execution_count": 9,
   "metadata": {},
   "outputs": [],
   "source": [
    "# Drop irrelevant features\n",
    "df = df.drop(['trim', 'vin', 'mmr', 'saledate'], axis=1)"
   ]
  },
  {
   "cell_type": "code",
   "execution_count": 10,
   "metadata": {},
   "outputs": [],
   "source": [
    "# rename columns\n",
    "df = df.rename(columns={\n",
    "\"make\" : \"brand\",\n",
    "\"body\" : \"type\",\n",
    "\"odometer\" : \"miles\"} \n",
    "    )"
   ]
  },
  {
   "cell_type": "code",
   "execution_count": 11,
   "metadata": {},
   "outputs": [],
   "source": [
    "# transform into lowercase\n",
    "df[\"brand\"] = df[\"brand\"].str.lower()\n",
    "df[\"model\"] = df[\"model\"].str.lower()\n",
    "df[\"type\"] = df[\"type\"].str.lower()"
   ]
  },
  {
   "cell_type": "markdown",
   "metadata": {},
   "source": [
    "## Define label"
   ]
  },
  {
   "cell_type": "code",
   "execution_count": 12,
   "metadata": {},
   "outputs": [],
   "source": [
    "y_label = 'sellingprice'"
   ]
  },
  {
   "cell_type": "markdown",
   "metadata": {},
   "source": [
    "## Data format"
   ]
  },
  {
   "cell_type": "code",
   "execution_count": 13,
   "metadata": {},
   "outputs": [],
   "source": [
    "# Make a dictionary with int64 featureumns as keys and np.int32 as values\n",
    "int_32 = dict.fromkeys(df.select_dtypes(np.int64).columns, np.int32)\n",
    "# Change all columns from dictionary\n",
    "df = df.astype(int_32)\n",
    "\n",
    "# Make a dictionary with float64 columns as keys and np.float32 as values\n",
    "float_32 = dict.fromkeys(df.select_dtypes(np.float64).columns, np.float32)\n",
    "df = df.astype(float_32)"
   ]
  },
  {
   "cell_type": "code",
   "execution_count": 14,
   "metadata": {},
   "outputs": [
    {
     "data": {
      "text/plain": [
       "{'year': numpy.int32, 'sellingprice': numpy.int32}"
      ]
     },
     "execution_count": 14,
     "metadata": {},
     "output_type": "execute_result"
    }
   ],
   "source": [
    "int_32"
   ]
  },
  {
   "cell_type": "code",
   "execution_count": 15,
   "metadata": {},
   "outputs": [],
   "source": [
    "# Convert to categorical\n",
    "\n",
    "# make a list of all categorical variables\n",
    "cat_convert = [\"brand\", \"model\", \"type\", \"state\", \"color\", \"interior\", \"seller\"]\n",
    "\n",
    "# convert variables\n",
    "for i in cat_convert:\n",
    "    df[i] = df[i].astype(\"string\")"
   ]
  },
  {
   "cell_type": "code",
   "execution_count": 16,
   "metadata": {},
   "outputs": [],
   "source": [
    "# Convert to category\n",
    "df['year'] = df['year'].astype(\"category\")\n",
    "df['condition'] = df['condition'].astype(\"category\")"
   ]
  },
  {
   "cell_type": "code",
   "execution_count": 17,
   "metadata": {},
   "outputs": [],
   "source": [
    "# Make list of all numerical data (except label)\n",
    "list_num = df.drop(columns=[y_label]).select_dtypes(include=[np.number]).columns.tolist()\n",
    "\n",
    "# Make list of all categorical data which is stored as integers (except label)\n",
    "list_cat_int = df.drop(columns=[y_label]).select_dtypes(include=['category']).columns.tolist()\n",
    "\n",
    "# Make list of all categorical data which is stored as string (except label)\n",
    "list_cat_string = df.drop(columns=[y_label]).select_dtypes(include=['string']).columns.tolist()"
   ]
  },
  {
   "cell_type": "code",
   "execution_count": 18,
   "metadata": {},
   "outputs": [
    {
     "data": {
      "text/plain": [
       "['miles']"
      ]
     },
     "execution_count": 18,
     "metadata": {},
     "output_type": "execute_result"
    }
   ],
   "source": [
    "list_num"
   ]
  },
  {
   "cell_type": "code",
   "execution_count": 19,
   "metadata": {},
   "outputs": [
    {
     "data": {
      "text/plain": [
       "['year', 'condition']"
      ]
     },
     "execution_count": 19,
     "metadata": {},
     "output_type": "execute_result"
    }
   ],
   "source": [
    "list_cat_int"
   ]
  },
  {
   "cell_type": "code",
   "execution_count": 20,
   "metadata": {},
   "outputs": [
    {
     "name": "stdout",
     "output_type": "stream",
     "text": [
      "<class 'pandas.core.frame.DataFrame'>\n",
      "Int64Index: 533660 entries, 0 to 558810\n",
      "Data columns (total 11 columns):\n",
      " #   Column        Non-Null Count   Dtype   \n",
      "---  ------        --------------   -----   \n",
      " 0   year          533660 non-null  category\n",
      " 1   brand         533660 non-null  string  \n",
      " 2   model         533660 non-null  string  \n",
      " 3   type          533660 non-null  string  \n",
      " 4   state         533660 non-null  string  \n",
      " 5   condition     533660 non-null  category\n",
      " 6   miles         533660 non-null  float32 \n",
      " 7   color         533660 non-null  string  \n",
      " 8   interior      533660 non-null  string  \n",
      " 9   seller        533660 non-null  string  \n",
      " 10  sellingprice  533660 non-null  int32   \n",
      "dtypes: category(2), float32(1), int32(1), string(7)\n",
      "memory usage: 37.7 MB\n"
     ]
    }
   ],
   "source": [
    "df.info()"
   ]
  },
  {
   "cell_type": "code",
   "execution_count": 21,
   "metadata": {},
   "outputs": [
    {
     "data": {
      "text/html": [
       "<div>\n",
       "<style scoped>\n",
       "    .dataframe tbody tr th:only-of-type {\n",
       "        vertical-align: middle;\n",
       "    }\n",
       "\n",
       "    .dataframe tbody tr th {\n",
       "        vertical-align: top;\n",
       "    }\n",
       "\n",
       "    .dataframe thead th {\n",
       "        text-align: right;\n",
       "    }\n",
       "</style>\n",
       "<table border=\"1\" class=\"dataframe\">\n",
       "  <thead>\n",
       "    <tr style=\"text-align: right;\">\n",
       "      <th></th>\n",
       "      <th>year</th>\n",
       "      <th>brand</th>\n",
       "      <th>model</th>\n",
       "      <th>type</th>\n",
       "      <th>state</th>\n",
       "      <th>condition</th>\n",
       "      <th>miles</th>\n",
       "      <th>color</th>\n",
       "      <th>interior</th>\n",
       "      <th>seller</th>\n",
       "      <th>sellingprice</th>\n",
       "    </tr>\n",
       "  </thead>\n",
       "  <tbody>\n",
       "    <tr>\n",
       "      <th>0</th>\n",
       "      <td>2015</td>\n",
       "      <td>kia</td>\n",
       "      <td>sorento</td>\n",
       "      <td>suv</td>\n",
       "      <td>ca</td>\n",
       "      <td>5.0</td>\n",
       "      <td>16639.0</td>\n",
       "      <td>white</td>\n",
       "      <td>black</td>\n",
       "      <td>kia motors america, inc</td>\n",
       "      <td>21500</td>\n",
       "    </tr>\n",
       "    <tr>\n",
       "      <th>1</th>\n",
       "      <td>2015</td>\n",
       "      <td>kia</td>\n",
       "      <td>sorento</td>\n",
       "      <td>suv</td>\n",
       "      <td>ca</td>\n",
       "      <td>5.0</td>\n",
       "      <td>9393.0</td>\n",
       "      <td>white</td>\n",
       "      <td>beige</td>\n",
       "      <td>kia motors america, inc</td>\n",
       "      <td>21500</td>\n",
       "    </tr>\n",
       "    <tr>\n",
       "      <th>2</th>\n",
       "      <td>2014</td>\n",
       "      <td>bmw</td>\n",
       "      <td>3 series</td>\n",
       "      <td>sedan</td>\n",
       "      <td>ca</td>\n",
       "      <td>4.5</td>\n",
       "      <td>1331.0</td>\n",
       "      <td>gray</td>\n",
       "      <td>black</td>\n",
       "      <td>financial services remarketing (lease)</td>\n",
       "      <td>30000</td>\n",
       "    </tr>\n",
       "    <tr>\n",
       "      <th>3</th>\n",
       "      <td>2015</td>\n",
       "      <td>volvo</td>\n",
       "      <td>s60</td>\n",
       "      <td>sedan</td>\n",
       "      <td>ca</td>\n",
       "      <td>4.1</td>\n",
       "      <td>14282.0</td>\n",
       "      <td>white</td>\n",
       "      <td>black</td>\n",
       "      <td>volvo na rep/world omni</td>\n",
       "      <td>27750</td>\n",
       "    </tr>\n",
       "    <tr>\n",
       "      <th>4</th>\n",
       "      <td>2014</td>\n",
       "      <td>bmw</td>\n",
       "      <td>6 series gran coupe</td>\n",
       "      <td>sedan</td>\n",
       "      <td>ca</td>\n",
       "      <td>4.3</td>\n",
       "      <td>2641.0</td>\n",
       "      <td>gray</td>\n",
       "      <td>black</td>\n",
       "      <td>financial services remarketing (lease)</td>\n",
       "      <td>67000</td>\n",
       "    </tr>\n",
       "  </tbody>\n",
       "</table>\n",
       "</div>"
      ],
      "text/plain": [
       "   year  brand                model   type state condition    miles  color  \\\n",
       "0  2015    kia              sorento    suv    ca       5.0  16639.0  white   \n",
       "1  2015    kia              sorento    suv    ca       5.0   9393.0  white   \n",
       "2  2014    bmw             3 series  sedan    ca       4.5   1331.0   gray   \n",
       "3  2015  volvo                  s60  sedan    ca       4.1  14282.0  white   \n",
       "4  2014    bmw  6 series gran coupe  sedan    ca       4.3   2641.0   gray   \n",
       "\n",
       "  interior                                  seller  sellingprice  \n",
       "0    black                 kia motors america, inc         21500  \n",
       "1    beige                 kia motors america, inc         21500  \n",
       "2    black  financial services remarketing (lease)         30000  \n",
       "3    black                 volvo na rep/world omni         27750  \n",
       "4    black  financial services remarketing (lease)         67000  "
      ]
     },
     "execution_count": 21,
     "metadata": {},
     "output_type": "execute_result"
    }
   ],
   "source": [
    "df.head()"
   ]
  },
  {
   "cell_type": "code",
   "execution_count": 29,
   "metadata": {},
   "outputs": [
    {
     "data": {
      "text/plain": [
       "<StringArray>\n",
       "[                           'kia motors america, inc',\n",
       "             'financial services remarketing (lease)',\n",
       "                            'volvo na rep/world omni',\n",
       " 'enterprise vehicle exchange / tra / rental / tulsa',\n",
       "                              'the hertz corporation',\n",
       "                                 'audi mission viejo',\n",
       "                                 'd/m auto sales inc',\n",
       "                                  'desert auto trade',\n",
       "                                 'kia motors finance',\n",
       "                              'audi north scottsdale',\n",
       " ...\n",
       "                          'larry h. miller chevrolet',\n",
       "                            'eynon pontiac buick inc',\n",
       "                                'auto revolution llc',\n",
       "                            't&s california auto inc',\n",
       "                                  'magnum motors llc',\n",
       "                                 'a-1 auto group llc',\n",
       "                        'g brothers auto brokers inc',\n",
       "                         'maserati north america inc',\n",
       "                    'alternative financial group inc',\n",
       "                                    'i -5 uhlmann rv']\n",
       "Length: 12739, dtype: string"
      ]
     },
     "execution_count": 29,
     "metadata": {},
     "output_type": "execute_result"
    }
   ],
   "source": [
    "#df[\"seller\"].unique()"
   ]
  },
  {
   "cell_type": "markdown",
   "metadata": {},
   "source": [
    "## Data Splitting"
   ]
  },
  {
   "cell_type": "code",
   "execution_count": 21,
   "metadata": {},
   "outputs": [],
   "source": [
    "# Make validation data\n",
    "df_val = df.sample(frac=0.2, random_state=1337)\n",
    "\n",
    "# Create training data\n",
    "df_train = df.drop(df_val.index)"
   ]
  },
  {
   "cell_type": "code",
   "execution_count": 22,
   "metadata": {},
   "outputs": [
    {
     "name": "stdout",
     "output_type": "stream",
     "text": [
      "Using 426928 samples for training and 106732 for validation\n"
     ]
    }
   ],
   "source": [
    "print(\n",
    "    \"Using %d samples for training and %d for validation\"\n",
    "    % (len(df_train), len(df_val))\n",
    ")"
   ]
  },
  {
   "cell_type": "markdown",
   "metadata": {},
   "source": [
    "## Transform to Tensors"
   ]
  },
  {
   "cell_type": "code",
   "execution_count": 23,
   "metadata": {},
   "outputs": [],
   "source": [
    "# Define a function to create our tensors\n",
    "\n",
    "def dataframe_to_dataset(dataframe, shuffle=True, batch_size=32):\n",
    "    df = dataframe.copy()\n",
    "    labels = df.pop(y_label) #y_label rausziehen und löschen\n",
    "    ds = tf.data.Dataset.from_tensor_slices((dict(df), labels)) #ds für tensoren\n",
    "    if shuffle:\n",
    "        ds = ds.shuffle(buffer_size=10000) #len(dataframe)\n",
    "    ds = ds.batch(batch_size)\n",
    "    df = ds.prefetch(batch_size)\n",
    "    return ds"
   ]
  },
  {
   "cell_type": "code",
   "execution_count": 24,
   "metadata": {},
   "outputs": [
    {
     "name": "stderr",
     "output_type": "stream",
     "text": [
      "2022-05-11 13:20:06.340603: I tensorflow/core/platform/cpu_feature_guard.cc:151] This TensorFlow binary is optimized with oneAPI Deep Neural Network Library (oneDNN) to use the following CPU instructions in performance-critical operations:  AVX2 FMA\n",
      "To enable them in other operations, rebuild TensorFlow with the appropriate compiler flags.\n",
      "/Users/hendrikpfeifer/opt/anaconda3/envs/tf/lib/python3.8/site-packages/tensorflow/python/data/util/structure.py:489: FutureWarning: Index.ravel returning ndarray is deprecated; in a future version this will return a view on self.\n",
      "  raise TypeError(\"Could not build a `TypeSpec` for {} with type {}\".format(\n",
      "/Users/hendrikpfeifer/opt/anaconda3/envs/tf/lib/python3.8/site-packages/tensorflow/python/data/util/structure.py:489: FutureWarning: Index.ravel returning ndarray is deprecated; in a future version this will return a view on self.\n",
      "  raise TypeError(\"Could not build a `TypeSpec` for {} with type {}\".format(\n"
     ]
    }
   ],
   "source": [
    "batch_size = 32\n",
    "\n",
    "ds_train = dataframe_to_dataset(df_train, shuffle=True, batch_size=batch_size)\n",
    "ds_val = dataframe_to_dataset(df_val, shuffle=True, batch_size=batch_size)"
   ]
  },
  {
   "cell_type": "code",
   "execution_count": 25,
   "metadata": {},
   "outputs": [
    {
     "data": {
      "text/plain": [
       "<BatchDataset shapes: ({year: (None,), brand: (None,), model: (None,), type: (None,), state: (None,), condition: (None,), miles: (None,), color: (None,), interior: (None,), seller: (None,)}, (None,)), types: ({year: tf.int64, brand: tf.string, model: tf.string, type: tf.string, state: tf.string, condition: tf.float64, miles: tf.float32, color: tf.string, interior: tf.string, seller: tf.string}, tf.int32)>"
      ]
     },
     "execution_count": 25,
     "metadata": {},
     "output_type": "execute_result"
    }
   ],
   "source": [
    "ds_train"
   ]
  },
  {
   "cell_type": "markdown",
   "metadata": {},
   "source": [
    "# Feature preprocessing\n",
    "### Numerical preprocessing function"
   ]
  },
  {
   "cell_type": "code",
   "execution_count": 26,
   "metadata": {},
   "outputs": [],
   "source": [
    "# Define numerical preprocessing function\n",
    "def get_normalization_layer(name, dataset):\n",
    "    \n",
    "    # Create a Normalization layer for our feature\n",
    "    normalizer = layers.Normalization(axis=None)\n",
    "\n",
    "    # Prepare a dataset that only yields our feature\n",
    "    feature_ds = dataset.map(lambda x, y: x[name])\n",
    "\n",
    "    # Learn the statistics of the data\n",
    "    normalizer.adapt(feature_ds)\n",
    "\n",
    "    # Normalize the input feature\n",
    "    return normalizer"
   ]
  },
  {
   "cell_type": "markdown",
   "metadata": {},
   "source": [
    "### Categorical preprocessing function"
   ]
  },
  {
   "cell_type": "code",
   "execution_count": 27,
   "metadata": {},
   "outputs": [],
   "source": [
    "def get_category_encoding_layer(name, dataset, dtype, max_tokens=None):\n",
    "  \n",
    "  # Create a layer that turns strings into integer indices.\n",
    "  if dtype == 'string':\n",
    "    index = layers.StringLookup(max_tokens=max_tokens)\n",
    "  # Otherwise, create a layer that turns integer values into integer indices.\n",
    "  else:\n",
    "    index = layers.IntegerLookup(max_tokens=max_tokens) #, output_mode='multi_hot'\n",
    "\n",
    "  # Prepare a `tf.data.Dataset` that only yields the feature.\n",
    "  feature_ds = dataset.map(lambda x, y: x[name])\n",
    "\n",
    "  # Learn the set of possible values and assign them a fixed integer index.\n",
    "  index.adapt(feature_ds)\n",
    "\n",
    "  # Encode the integer indices.\n",
    "  encoder = layers.CategoryEncoding(num_tokens=index.vocabulary_size())\n",
    "\n",
    "  # Apply multi-hot encoding to the indices. The lambda function captures the\n",
    "  # layer, so you can use them, or include them in the Keras Functional model later.\n",
    "  return lambda feature: encoder(index(feature))"
   ]
  },
  {
   "cell_type": "markdown",
   "metadata": {},
   "source": [
    "### Data preprocessing"
   ]
  },
  {
   "cell_type": "code",
   "execution_count": 28,
   "metadata": {},
   "outputs": [],
   "source": [
    "all_inputs = []\n",
    "encoded_features = []"
   ]
  },
  {
   "cell_type": "markdown",
   "metadata": {},
   "source": [
    "### Numercial preprocessing"
   ]
  },
  {
   "cell_type": "code",
   "execution_count": 29,
   "metadata": {},
   "outputs": [],
   "source": [
    "# Numerical features\n",
    "for feature in list_num:\n",
    "  numeric_feature = tf.keras.Input(shape=(1,), name=feature)\n",
    "  normalization_layer = get_normalization_layer(feature, ds_train)\n",
    "  encoded_numeric_feature = normalization_layer(numeric_feature)\n",
    "  all_inputs.append(numeric_feature)\n",
    "  encoded_features.append(encoded_numeric_feature)"
   ]
  },
  {
   "cell_type": "code",
   "execution_count": 30,
   "metadata": {},
   "outputs": [
    {
     "data": {
      "text/plain": [
       "[<KerasTensor: shape=(None, 1) dtype=float32 (created by layer 'normalization')>]"
      ]
     },
     "execution_count": 30,
     "metadata": {},
     "output_type": "execute_result"
    }
   ],
   "source": [
    "encoded_features"
   ]
  },
  {
   "cell_type": "markdown",
   "metadata": {},
   "source": [
    "### Categorical preprocessing"
   ]
  },
  {
   "cell_type": "code",
   "execution_count": 31,
   "metadata": {},
   "outputs": [],
   "source": [
    "for feature in list_cat_int:\n",
    "  categorical_feature = tf.keras.Input(shape=(1,), name=feature, dtype='int32')\n",
    "  encoding_layer = get_category_encoding_layer(name=feature,\n",
    "                                               dataset=ds_train,\n",
    "                                               dtype='int32',\n",
    "                                               max_tokens=None)\n",
    "  encoded_categorical_feature = encoding_layer(categorical_feature)\n",
    "  all_inputs.append(categorical_feature)\n",
    "  encoded_features.append(encoded_categorical_feature)"
   ]
  },
  {
   "cell_type": "code",
   "execution_count": 32,
   "metadata": {},
   "outputs": [],
   "source": [
    "for feature in list_cat_string:\n",
    "  categorical_feature = tf.keras.Input(shape=(1,), name=feature, dtype='string')\n",
    "  encoding_layer = get_category_encoding_layer(name=feature,\n",
    "                                               dataset=ds_train,\n",
    "                                               dtype='string',\n",
    "                                               max_tokens=None)\n",
    "  encoded_categorical_feature = encoding_layer(categorical_feature)\n",
    "  all_inputs.append(categorical_feature)\n",
    "  encoded_features.append(encoded_categorical_feature)"
   ]
  },
  {
   "cell_type": "code",
   "execution_count": 33,
   "metadata": {},
   "outputs": [],
   "source": [
    "#Merge\n",
    "all_features = layers.concatenate(encoded_features)"
   ]
  },
  {
   "cell_type": "code",
   "execution_count": 34,
   "metadata": {},
   "outputs": [
    {
     "data": {
      "text/plain": [
       "<KerasTensor: shape=(None, 12699) dtype=float32 (created by layer 'concatenate')>"
      ]
     },
     "execution_count": 34,
     "metadata": {},
     "output_type": "execute_result"
    }
   ],
   "source": [
    "all_features\n"
   ]
  },
  {
   "cell_type": "code",
   "execution_count": 35,
   "metadata": {},
   "outputs": [],
   "source": [
    "# First layer\n",
    "x = layers.Dense(32, activation=\"relu\")(all_features)\n",
    "\n",
    "# Dropout to prevent overvitting - soll sich auf die wichtigsten konzentrieren\n",
    "x = layers.Dropout(0.5)(x)\n",
    "\n",
    "# Output layer\n",
    "output = layers.Dense(1)(x) #sigmoid nur für Classifikation // bei regression keine activation\n",
    "\n",
    "# Group all layers \n",
    "model = tf.keras.Model(all_inputs, output)"
   ]
  },
  {
   "cell_type": "code",
   "execution_count": 36,
   "metadata": {},
   "outputs": [],
   "source": [
    "model.compile(optimizer=\"adam\", \n",
    "              loss =\"mse\", \n",
    "              metrics=[\"mean_absolute_error\"])\n",
    "              \n",
    "              #regression Metrics verwenden!!!!"
   ]
  },
  {
   "cell_type": "code",
   "execution_count": 37,
   "metadata": {},
   "outputs": [
    {
     "name": "stdout",
     "output_type": "stream",
     "text": [
      "('You must install pydot (`pip install pydot`) and install graphviz (see instructions at https://graphviz.gitlab.io/download/) ', 'for plot_model/model_to_dot to work.')\n"
     ]
    }
   ],
   "source": [
    "tf.keras.utils.plot_model(model, show_shapes=True, rankdir=\"LR\")"
   ]
  },
  {
   "cell_type": "markdown",
   "metadata": {},
   "source": [
    "## Training"
   ]
  },
  {
   "cell_type": "code",
   "execution_count": 40,
   "metadata": {},
   "outputs": [
    {
     "name": "stdout",
     "output_type": "stream",
     "text": [
      "Epoch 1/50\n",
      "13342/13342 [==============================] - 57s 4ms/step - loss: 38946492.0000 - mean_absolute_error: 4006.6633 - val_loss: 22472878.0000 - val_mean_absolute_error: 2630.8940\n",
      "Epoch 2/50\n",
      "13342/13342 [==============================] - 54s 4ms/step - loss: 37595148.0000 - mean_absolute_error: 3922.5181 - val_loss: 21064910.0000 - val_mean_absolute_error: 2514.8040\n",
      "Epoch 3/50\n",
      "13342/13342 [==============================] - 55s 4ms/step - loss: 36055304.0000 - mean_absolute_error: 3828.4453 - val_loss: 19820846.0000 - val_mean_absolute_error: 2412.4561\n",
      "Epoch 4/50\n",
      "13342/13342 [==============================] - 57s 4ms/step - loss: 35131960.0000 - mean_absolute_error: 3762.8110 - val_loss: 18785656.0000 - val_mean_absolute_error: 2327.3672\n",
      "Epoch 5/50\n",
      "13342/13342 [==============================] - 59s 4ms/step - loss: 34116980.0000 - mean_absolute_error: 3704.0430 - val_loss: 18001852.0000 - val_mean_absolute_error: 2269.9343\n",
      "Epoch 6/50\n",
      "13342/13342 [==============================] - 60s 5ms/step - loss: 33369822.0000 - mean_absolute_error: 3670.1226 - val_loss: 17214320.0000 - val_mean_absolute_error: 2217.7305\n",
      "Epoch 7/50\n",
      "13342/13342 [==============================] - 58s 4ms/step - loss: 32705096.0000 - mean_absolute_error: 3635.1265 - val_loss: 16656881.0000 - val_mean_absolute_error: 2182.9971\n",
      "Epoch 8/50\n",
      "13342/13342 [==============================] - 57s 4ms/step - loss: 32103474.0000 - mean_absolute_error: 3606.2483 - val_loss: 16062102.0000 - val_mean_absolute_error: 2144.1746\n",
      "Epoch 9/50\n",
      "13342/13342 [==============================] - 59s 4ms/step - loss: 31490852.0000 - mean_absolute_error: 3581.0205 - val_loss: 15555533.0000 - val_mean_absolute_error: 2113.8940\n",
      "Epoch 10/50\n",
      "13342/13342 [==============================] - 57s 4ms/step - loss: 31198162.0000 - mean_absolute_error: 3565.1992 - val_loss: 15178267.0000 - val_mean_absolute_error: 2096.3242\n",
      "Epoch 11/50\n",
      "13342/13342 [==============================] - 57s 4ms/step - loss: 30857034.0000 - mean_absolute_error: 3553.6357 - val_loss: 14863563.0000 - val_mean_absolute_error: 2078.3760\n",
      "Epoch 12/50\n",
      "13342/13342 [==============================] - 63s 5ms/step - loss: 30427582.0000 - mean_absolute_error: 3525.5430 - val_loss: 14509231.0000 - val_mean_absolute_error: 2058.2209\n",
      "Epoch 13/50\n",
      "13342/13342 [==============================] - 56s 4ms/step - loss: 30108402.0000 - mean_absolute_error: 3515.3799 - val_loss: 14149045.0000 - val_mean_absolute_error: 2033.1390\n",
      "Epoch 14/50\n",
      "13342/13342 [==============================] - 63s 5ms/step - loss: 29648900.0000 - mean_absolute_error: 3498.4082 - val_loss: 13897974.0000 - val_mean_absolute_error: 2022.5817\n",
      "Epoch 15/50\n",
      "13342/13342 [==============================] - 68s 5ms/step - loss: 29281642.0000 - mean_absolute_error: 3478.4248 - val_loss: 13656290.0000 - val_mean_absolute_error: 2006.8871\n",
      "Epoch 16/50\n",
      "13342/13342 [==============================] - 58s 4ms/step - loss: 29329832.0000 - mean_absolute_error: 3480.5413 - val_loss: 13475074.0000 - val_mean_absolute_error: 2000.3574\n",
      "Epoch 17/50\n",
      "13342/13342 [==============================] - 60s 4ms/step - loss: 29261916.0000 - mean_absolute_error: 3474.1980 - val_loss: 13324717.0000 - val_mean_absolute_error: 1994.8231\n",
      "Epoch 18/50\n",
      "13342/13342 [==============================] - 64s 5ms/step - loss: 28781948.0000 - mean_absolute_error: 3452.0112 - val_loss: 13160896.0000 - val_mean_absolute_error: 1989.6962\n",
      "Epoch 19/50\n",
      "13342/13342 [==============================] - 59s 4ms/step - loss: 28786030.0000 - mean_absolute_error: 3449.4937 - val_loss: 12950409.0000 - val_mean_absolute_error: 1971.2754\n",
      "Epoch 20/50\n",
      "13342/13342 [==============================] - 60s 5ms/step - loss: 28468604.0000 - mean_absolute_error: 3436.9802 - val_loss: 12697757.0000 - val_mean_absolute_error: 1951.2833\n",
      "Epoch 21/50\n",
      "13342/13342 [==============================] - 66s 5ms/step - loss: 28480886.0000 - mean_absolute_error: 3435.7336 - val_loss: 12527665.0000 - val_mean_absolute_error: 1942.7821\n",
      "Epoch 22/50\n",
      "13342/13342 [==============================] - 62s 5ms/step - loss: 28315328.0000 - mean_absolute_error: 3425.1648 - val_loss: 12382932.0000 - val_mean_absolute_error: 1931.9882\n",
      "Epoch 23/50\n",
      "13342/13342 [==============================] - 62s 5ms/step - loss: 27969094.0000 - mean_absolute_error: 3415.5632 - val_loss: 12381247.0000 - val_mean_absolute_error: 1945.4113\n",
      "Epoch 24/50\n",
      "13342/13342 [==============================] - 55s 4ms/step - loss: 27983416.0000 - mean_absolute_error: 3406.6101 - val_loss: 12135553.0000 - val_mean_absolute_error: 1919.0336\n",
      "Epoch 25/50\n",
      "13342/13342 [==============================] - 53s 4ms/step - loss: 27627482.0000 - mean_absolute_error: 3400.6313 - val_loss: 12024567.0000 - val_mean_absolute_error: 1911.1547\n",
      "Epoch 26/50\n",
      "13342/13342 [==============================] - 59s 4ms/step - loss: 27617558.0000 - mean_absolute_error: 3394.8855 - val_loss: 11948755.0000 - val_mean_absolute_error: 1911.0966\n",
      "Epoch 27/50\n",
      "13342/13342 [==============================] - 58s 4ms/step - loss: 27549608.0000 - mean_absolute_error: 3391.5750 - val_loss: 11745688.0000 - val_mean_absolute_error: 1890.6592\n",
      "Epoch 28/50\n",
      "13342/13342 [==============================] - 59s 4ms/step - loss: 27243220.0000 - mean_absolute_error: 3383.1411 - val_loss: 11777108.0000 - val_mean_absolute_error: 1906.9996\n",
      "Epoch 29/50\n",
      "13342/13342 [==============================] - 60s 4ms/step - loss: 27321458.0000 - mean_absolute_error: 3380.5066 - val_loss: 11584174.0000 - val_mean_absolute_error: 1886.5247\n",
      "Epoch 30/50\n",
      "13342/13342 [==============================] - 67s 5ms/step - loss: 27014228.0000 - mean_absolute_error: 3365.0354 - val_loss: 11574981.0000 - val_mean_absolute_error: 1894.8198\n",
      "Epoch 31/50\n",
      "13342/13342 [==============================] - 57s 4ms/step - loss: 27056556.0000 - mean_absolute_error: 3365.9290 - val_loss: 11378216.0000 - val_mean_absolute_error: 1869.1581\n",
      "Epoch 32/50\n",
      "13342/13342 [==============================] - 61s 5ms/step - loss: 27009476.0000 - mean_absolute_error: 3360.6025 - val_loss: 11265021.0000 - val_mean_absolute_error: 1865.5388\n",
      "Epoch 33/50\n",
      "13342/13342 [==============================] - 64s 5ms/step - loss: 26853570.0000 - mean_absolute_error: 3358.1096 - val_loss: 11245565.0000 - val_mean_absolute_error: 1867.6458\n",
      "Epoch 34/50\n",
      "13342/13342 [==============================] - 63s 5ms/step - loss: 26746256.0000 - mean_absolute_error: 3351.9524 - val_loss: 11180798.0000 - val_mean_absolute_error: 1865.3507\n",
      "Epoch 35/50\n",
      "13342/13342 [==============================] - 61s 5ms/step - loss: 26797680.0000 - mean_absolute_error: 3348.4807 - val_loss: 11161684.0000 - val_mean_absolute_error: 1866.7563\n",
      "Epoch 36/50\n",
      "13342/13342 [==============================] - 58s 4ms/step - loss: 26586842.0000 - mean_absolute_error: 3343.0400 - val_loss: 10995332.0000 - val_mean_absolute_error: 1849.0458\n",
      "Epoch 37/50\n",
      "13342/13342 [==============================] - 58s 4ms/step - loss: 26542262.0000 - mean_absolute_error: 3342.0623 - val_loss: 10899035.0000 - val_mean_absolute_error: 1844.3654\n",
      "Epoch 38/50\n",
      "13342/13342 [==============================] - 54s 4ms/step - loss: 26454412.0000 - mean_absolute_error: 3336.1135 - val_loss: 10962594.0000 - val_mean_absolute_error: 1862.2300\n",
      "Epoch 39/50\n",
      "13342/13342 [==============================] - 55s 4ms/step - loss: 26419632.0000 - mean_absolute_error: 3330.8254 - val_loss: 10819305.0000 - val_mean_absolute_error: 1848.3082\n",
      "Epoch 40/50\n",
      "13342/13342 [==============================] - 54s 4ms/step - loss: 26277188.0000 - mean_absolute_error: 3328.8989 - val_loss: 10763478.0000 - val_mean_absolute_error: 1841.0938\n",
      "Epoch 41/50\n",
      "13342/13342 [==============================] - 54s 4ms/step - loss: 26094420.0000 - mean_absolute_error: 3320.2036 - val_loss: 10664542.0000 - val_mean_absolute_error: 1836.5049\n",
      "Epoch 42/50\n",
      "13342/13342 [==============================] - 54s 4ms/step - loss: 25928232.0000 - mean_absolute_error: 3311.1545 - val_loss: 10695044.0000 - val_mean_absolute_error: 1841.6760\n",
      "Epoch 43/50\n",
      "13342/13342 [==============================] - 54s 4ms/step - loss: 26132114.0000 - mean_absolute_error: 3312.6846 - val_loss: 10532393.0000 - val_mean_absolute_error: 1827.2617\n",
      "Epoch 44/50\n",
      "13342/13342 [==============================] - 55s 4ms/step - loss: 25947904.0000 - mean_absolute_error: 3312.9707 - val_loss: 10459522.0000 - val_mean_absolute_error: 1820.0327\n",
      "Epoch 45/50\n",
      "13342/13342 [==============================] - 56s 4ms/step - loss: 25747956.0000 - mean_absolute_error: 3298.5305 - val_loss: 10388727.0000 - val_mean_absolute_error: 1811.7416\n",
      "Epoch 46/50\n",
      "13342/13342 [==============================] - 54s 4ms/step - loss: 25958372.0000 - mean_absolute_error: 3300.0781 - val_loss: 10508036.0000 - val_mean_absolute_error: 1837.5216\n",
      "Epoch 47/50\n",
      "13342/13342 [==============================] - 45s 3ms/step - loss: 25865532.0000 - mean_absolute_error: 3301.8306 - val_loss: 10401004.0000 - val_mean_absolute_error: 1824.7491\n",
      "Epoch 48/50\n",
      "13342/13342 [==============================] - 44s 3ms/step - loss: 25563960.0000 - mean_absolute_error: 3293.8215 - val_loss: 10279966.0000 - val_mean_absolute_error: 1813.8149\n",
      "Epoch 49/50\n",
      "13342/13342 [==============================] - 53s 4ms/step - loss: 25655322.0000 - mean_absolute_error: 3288.5205 - val_loss: 10292285.0000 - val_mean_absolute_error: 1822.0200\n",
      "Epoch 50/50\n",
      "13342/13342 [==============================] - 63s 5ms/step - loss: 25518982.0000 - mean_absolute_error: 3291.6929 - val_loss: 10229738.0000 - val_mean_absolute_error: 1814.6371\n"
     ]
    },
    {
     "data": {
      "text/plain": [
       "<keras.callbacks.History at 0x7f9de085ae80>"
      ]
     },
     "execution_count": 40,
     "metadata": {},
     "output_type": "execute_result"
    }
   ],
   "source": [
    "model.fit(ds_train, epochs=50, validation_data=ds_val)\n",
    "#Anzahl der Epochen: sobald val_accuracy nicht mehr gesteigert werden kann\n",
    "#4 Epochen sind genug"
   ]
  },
  {
   "cell_type": "code",
   "execution_count": 41,
   "metadata": {},
   "outputs": [
    {
     "name": "stdout",
     "output_type": "stream",
     "text": [
      "3336/3336 [==============================] - 9s 3ms/step - loss: 10229737.0000 - mean_absolute_error: 1814.6394\n",
      "MAE 1814.64\n"
     ]
    }
   ],
   "source": [
    "#im \"echten\" die testdaten nehmen\n",
    "loss, accuracy = model.evaluate(ds_val)\n",
    "\n",
    "print(\"MAE\", round(accuracy, 2))"
   ]
  },
  {
   "cell_type": "markdown",
   "metadata": {},
   "source": [
    "## Perform inference"
   ]
  },
  {
   "cell_type": "code",
   "execution_count": 42,
   "metadata": {},
   "outputs": [
    {
     "name": "stderr",
     "output_type": "stream",
     "text": [
      "2022-05-11 14:16:36.616569: W tensorflow/python/util/util.cc:368] Sets are not currently considered sequences, but this may change in the future, so consider avoiding using them.\n"
     ]
    },
    {
     "name": "stdout",
     "output_type": "stream",
     "text": [
      "INFO:tensorflow:Assets written to: my_car_model-mean-absolute/assets\n"
     ]
    }
   ],
   "source": [
    "model.save('my_car_model-mean-absolute')"
   ]
  },
  {
   "cell_type": "code",
   "execution_count": 43,
   "metadata": {},
   "outputs": [],
   "source": [
    "reloaded_model = tf.keras.models.load_model('my_car_model-mean-absolute')"
   ]
  },
  {
   "cell_type": "code",
   "execution_count": 44,
   "metadata": {},
   "outputs": [
    {
     "data": {
      "text/html": [
       "<div>\n",
       "<style scoped>\n",
       "    .dataframe tbody tr th:only-of-type {\n",
       "        vertical-align: middle;\n",
       "    }\n",
       "\n",
       "    .dataframe tbody tr th {\n",
       "        vertical-align: top;\n",
       "    }\n",
       "\n",
       "    .dataframe thead th {\n",
       "        text-align: right;\n",
       "    }\n",
       "</style>\n",
       "<table border=\"1\" class=\"dataframe\">\n",
       "  <thead>\n",
       "    <tr style=\"text-align: right;\">\n",
       "      <th></th>\n",
       "      <th>year</th>\n",
       "      <th>brand</th>\n",
       "      <th>model</th>\n",
       "      <th>type</th>\n",
       "      <th>state</th>\n",
       "      <th>condition</th>\n",
       "      <th>miles</th>\n",
       "      <th>color</th>\n",
       "      <th>interior</th>\n",
       "      <th>seller</th>\n",
       "      <th>sellingprice</th>\n",
       "    </tr>\n",
       "  </thead>\n",
       "  <tbody>\n",
       "    <tr>\n",
       "      <th>0</th>\n",
       "      <td>2015</td>\n",
       "      <td>kia</td>\n",
       "      <td>sorento</td>\n",
       "      <td>suv</td>\n",
       "      <td>ca</td>\n",
       "      <td>5.0</td>\n",
       "      <td>16639.0</td>\n",
       "      <td>white</td>\n",
       "      <td>black</td>\n",
       "      <td>kia motors america, inc</td>\n",
       "      <td>21500</td>\n",
       "    </tr>\n",
       "    <tr>\n",
       "      <th>1</th>\n",
       "      <td>2015</td>\n",
       "      <td>kia</td>\n",
       "      <td>sorento</td>\n",
       "      <td>suv</td>\n",
       "      <td>ca</td>\n",
       "      <td>5.0</td>\n",
       "      <td>9393.0</td>\n",
       "      <td>white</td>\n",
       "      <td>beige</td>\n",
       "      <td>kia motors america, inc</td>\n",
       "      <td>21500</td>\n",
       "    </tr>\n",
       "    <tr>\n",
       "      <th>2</th>\n",
       "      <td>2014</td>\n",
       "      <td>bmw</td>\n",
       "      <td>3 series</td>\n",
       "      <td>sedan</td>\n",
       "      <td>ca</td>\n",
       "      <td>4.5</td>\n",
       "      <td>1331.0</td>\n",
       "      <td>gray</td>\n",
       "      <td>black</td>\n",
       "      <td>financial services remarketing (lease)</td>\n",
       "      <td>30000</td>\n",
       "    </tr>\n",
       "    <tr>\n",
       "      <th>3</th>\n",
       "      <td>2015</td>\n",
       "      <td>volvo</td>\n",
       "      <td>s60</td>\n",
       "      <td>sedan</td>\n",
       "      <td>ca</td>\n",
       "      <td>4.1</td>\n",
       "      <td>14282.0</td>\n",
       "      <td>white</td>\n",
       "      <td>black</td>\n",
       "      <td>volvo na rep/world omni</td>\n",
       "      <td>27750</td>\n",
       "    </tr>\n",
       "    <tr>\n",
       "      <th>4</th>\n",
       "      <td>2014</td>\n",
       "      <td>bmw</td>\n",
       "      <td>6 series gran coupe</td>\n",
       "      <td>sedan</td>\n",
       "      <td>ca</td>\n",
       "      <td>4.3</td>\n",
       "      <td>2641.0</td>\n",
       "      <td>gray</td>\n",
       "      <td>black</td>\n",
       "      <td>financial services remarketing (lease)</td>\n",
       "      <td>67000</td>\n",
       "    </tr>\n",
       "  </tbody>\n",
       "</table>\n",
       "</div>"
      ],
      "text/plain": [
       "   year  brand                model   type state condition    miles  color  \\\n",
       "0  2015    kia              sorento    suv    ca       5.0  16639.0  white   \n",
       "1  2015    kia              sorento    suv    ca       5.0   9393.0  white   \n",
       "2  2014    bmw             3 series  sedan    ca       4.5   1331.0   gray   \n",
       "3  2015  volvo                  s60  sedan    ca       4.1  14282.0  white   \n",
       "4  2014    bmw  6 series gran coupe  sedan    ca       4.3   2641.0   gray   \n",
       "\n",
       "  interior                                  seller  sellingprice  \n",
       "0    black                 kia motors america, inc         21500  \n",
       "1    beige                 kia motors america, inc         21500  \n",
       "2    black  financial services remarketing (lease)         30000  \n",
       "3    black                 volvo na rep/world omni         27750  \n",
       "4    black  financial services remarketing (lease)         67000  "
      ]
     },
     "execution_count": 44,
     "metadata": {},
     "output_type": "execute_result"
    }
   ],
   "source": [
    "df.head()"
   ]
  },
  {
   "cell_type": "code",
   "execution_count": 49,
   "metadata": {},
   "outputs": [],
   "source": [
    "sample = {\n",
    "    \"year\": 2015,\n",
    "    \"brand\": \"kia\",\n",
    "    \"model\": \"sorento\",\n",
    "    \"type\": \"suv\",\n",
    "    \"state\": \"ca\",\n",
    "    \"condition\": 5.0,\n",
    "    \"miles\": 9393.0,\n",
    "    \"color\": \"white\",\n",
    "    \"interior\": \"black\",\n",
    "    \"seller\": \"kia motors america, inc\",\n",
    "}"
   ]
  },
  {
   "cell_type": "code",
   "execution_count": 50,
   "metadata": {},
   "outputs": [],
   "source": [
    "input_dict = {name: tf.convert_to_tensor([value]) for name, value in sample.items()}"
   ]
  },
  {
   "cell_type": "code",
   "execution_count": 51,
   "metadata": {},
   "outputs": [],
   "source": [
    "predictions = reloaded_model.predict(input_dict)"
   ]
  },
  {
   "cell_type": "code",
   "execution_count": 52,
   "metadata": {},
   "outputs": [
    {
     "data": {
      "text/plain": [
       "array([[21473.633]], dtype=float32)"
      ]
     },
     "execution_count": 52,
     "metadata": {},
     "output_type": "execute_result"
    }
   ],
   "source": [
    "predictions"
   ]
  },
  {
   "cell_type": "markdown",
   "id": "5317de15",
   "metadata": {},
   "source": [
    "\n",
    "```{toctree}\n",
    ":hidden:\n",
    ":titlesonly:\n",
    "\n",
    "\n",
    "05_deployment\n",
    "```\n"
   ]
  }
 ],
 "metadata": {
  "interpreter": {
   "hash": "98820d55aab3207fef5a0c691928a28424b225d61c9f2fbd00705ff6f7bae48a"
  },
  "kernelspec": {
   "display_name": "Python 3.8.12",
   "language": "python",
   "name": "python3"
  },
  "language_info": {
   "codemirror_mode": {
    "name": "ipython",
    "version": 3
   },
   "file_extension": ".py",
   "mimetype": "text/x-python",
   "name": "python",
   "nbconvert_exporter": "python",
   "pygments_lexer": "ipython3",
   "version": "3.7.11"
  }
 },
 "nbformat": 4,
 "nbformat_minor": 2
}