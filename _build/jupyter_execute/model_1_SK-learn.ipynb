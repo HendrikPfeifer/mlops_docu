{
 "cells": [
  {
   "cell_type": "markdown",
   "metadata": {},
   "source": [
    "# First Model\n",
    "\n",
    "#### First try including sk-learn model and EDA"
   ]
  },
  {
   "cell_type": "markdown",
   "metadata": {},
   "source": [
    "## Load packages"
   ]
  },
  {
   "cell_type": "code",
   "execution_count": 1,
   "metadata": {},
   "outputs": [],
   "source": [
    "import pandas as pd\n",
    "import numpy as np\n",
    "\n",
    "%matplotlib inline\n",
    "import seaborn as sns\n",
    "import matplotlib.pyplot as plt"
   ]
  },
  {
   "cell_type": "markdown",
   "metadata": {},
   "source": [
    "## import dataset"
   ]
  },
  {
   "cell_type": "code",
   "execution_count": 2,
   "metadata": {},
   "outputs": [],
   "source": [
    "df = pd.read_csv(\"car_prices.csv\", on_bad_lines=\"skip\")"
   ]
  },
  {
   "cell_type": "code",
   "execution_count": 3,
   "metadata": {},
   "outputs": [
    {
     "data": {
      "text/html": [
       "<div>\n",
       "<style scoped>\n",
       "    .dataframe tbody tr th:only-of-type {\n",
       "        vertical-align: middle;\n",
       "    }\n",
       "\n",
       "    .dataframe tbody tr th {\n",
       "        vertical-align: top;\n",
       "    }\n",
       "\n",
       "    .dataframe thead th {\n",
       "        text-align: right;\n",
       "    }\n",
       "</style>\n",
       "<table border=\"1\" class=\"dataframe\">\n",
       "  <thead>\n",
       "    <tr style=\"text-align: right;\">\n",
       "      <th></th>\n",
       "      <th>year</th>\n",
       "      <th>make</th>\n",
       "      <th>model</th>\n",
       "      <th>trim</th>\n",
       "      <th>body</th>\n",
       "      <th>transmission</th>\n",
       "      <th>vin</th>\n",
       "      <th>state</th>\n",
       "      <th>condition</th>\n",
       "      <th>odometer</th>\n",
       "      <th>color</th>\n",
       "      <th>interior</th>\n",
       "      <th>seller</th>\n",
       "      <th>mmr</th>\n",
       "      <th>sellingprice</th>\n",
       "      <th>saledate</th>\n",
       "    </tr>\n",
       "  </thead>\n",
       "  <tbody>\n",
       "    <tr>\n",
       "      <th>0</th>\n",
       "      <td>2015</td>\n",
       "      <td>Kia</td>\n",
       "      <td>Sorento</td>\n",
       "      <td>LX</td>\n",
       "      <td>SUV</td>\n",
       "      <td>automatic</td>\n",
       "      <td>5xyktca69fg566472</td>\n",
       "      <td>ca</td>\n",
       "      <td>5.0</td>\n",
       "      <td>16639.0</td>\n",
       "      <td>white</td>\n",
       "      <td>black</td>\n",
       "      <td>kia motors america, inc</td>\n",
       "      <td>20500</td>\n",
       "      <td>21500</td>\n",
       "      <td>Tue Dec 16 2014 12:30:00 GMT-0800 (PST)</td>\n",
       "    </tr>\n",
       "    <tr>\n",
       "      <th>1</th>\n",
       "      <td>2015</td>\n",
       "      <td>Kia</td>\n",
       "      <td>Sorento</td>\n",
       "      <td>LX</td>\n",
       "      <td>SUV</td>\n",
       "      <td>automatic</td>\n",
       "      <td>5xyktca69fg561319</td>\n",
       "      <td>ca</td>\n",
       "      <td>5.0</td>\n",
       "      <td>9393.0</td>\n",
       "      <td>white</td>\n",
       "      <td>beige</td>\n",
       "      <td>kia motors america, inc</td>\n",
       "      <td>20800</td>\n",
       "      <td>21500</td>\n",
       "      <td>Tue Dec 16 2014 12:30:00 GMT-0800 (PST)</td>\n",
       "    </tr>\n",
       "  </tbody>\n",
       "</table>\n",
       "</div>"
      ],
      "text/plain": [
       "   year make    model trim body transmission                vin state  \\\n",
       "0  2015  Kia  Sorento   LX  SUV    automatic  5xyktca69fg566472    ca   \n",
       "1  2015  Kia  Sorento   LX  SUV    automatic  5xyktca69fg561319    ca   \n",
       "\n",
       "   condition  odometer  color interior                   seller    mmr  \\\n",
       "0        5.0   16639.0  white    black  kia motors america, inc  20500   \n",
       "1        5.0    9393.0  white    beige  kia motors america, inc  20800   \n",
       "\n",
       "   sellingprice                                 saledate  \n",
       "0         21500  Tue Dec 16 2014 12:30:00 GMT-0800 (PST)  \n",
       "1         21500  Tue Dec 16 2014 12:30:00 GMT-0800 (PST)  "
      ]
     },
     "execution_count": 3,
     "metadata": {},
     "output_type": "execute_result"
    }
   ],
   "source": [
    "df.head(2)"
   ]
  },
  {
   "cell_type": "code",
   "execution_count": 4,
   "metadata": {},
   "outputs": [
    {
     "name": "stdout",
     "output_type": "stream",
     "text": [
      "We have 558,811 observations and 16 columns in our dataset.\n"
     ]
    }
   ],
   "source": [
    "print(f\"We have {len(df.index):,} observations and {len(df.columns)} columns in our dataset.\")"
   ]
  },
  {
   "cell_type": "code",
   "execution_count": 5,
   "metadata": {},
   "outputs": [
    {
     "data": {
      "text/plain": [
       "Index(['year', 'make', 'model', 'trim', 'body', 'transmission', 'vin', 'state',\n",
       "       'condition', 'odometer', 'color', 'interior', 'seller', 'mmr',\n",
       "       'sellingprice', 'saledate'],\n",
       "      dtype='object')"
      ]
     },
     "execution_count": 5,
     "metadata": {},
     "output_type": "execute_result"
    }
   ],
   "source": [
    "df.columns"
   ]
  },
  {
   "cell_type": "code",
   "execution_count": 6,
   "metadata": {},
   "outputs": [
    {
     "data": {
      "text/plain": [
       "year              int64\n",
       "make             object\n",
       "model            object\n",
       "trim             object\n",
       "body             object\n",
       "transmission     object\n",
       "vin              object\n",
       "state            object\n",
       "condition       float64\n",
       "odometer        float64\n",
       "color            object\n",
       "interior         object\n",
       "seller           object\n",
       "mmr               int64\n",
       "sellingprice      int64\n",
       "saledate         object\n",
       "dtype: object"
      ]
     },
     "execution_count": 6,
     "metadata": {},
     "output_type": "execute_result"
    }
   ],
   "source": [
    "df.dtypes"
   ]
  },
  {
   "cell_type": "code",
   "execution_count": 7,
   "metadata": {},
   "outputs": [
    {
     "name": "stdout",
     "output_type": "stream",
     "text": [
      "<class 'pandas.core.frame.DataFrame'>\n",
      "RangeIndex: 558811 entries, 0 to 558810\n",
      "Data columns (total 16 columns):\n",
      " #   Column        Non-Null Count   Dtype  \n",
      "---  ------        --------------   -----  \n",
      " 0   year          558811 non-null  int64  \n",
      " 1   make          548510 non-null  object \n",
      " 2   model         548412 non-null  object \n",
      " 3   trim          548160 non-null  object \n",
      " 4   body          545616 non-null  object \n",
      " 5   transmission  493458 non-null  object \n",
      " 6   vin           558811 non-null  object \n",
      " 7   state         558811 non-null  object \n",
      " 8   condition     547017 non-null  float64\n",
      " 9   odometer      558717 non-null  float64\n",
      " 10  color         558062 non-null  object \n",
      " 11  interior      558062 non-null  object \n",
      " 12  seller        558811 non-null  object \n",
      " 13  mmr           558811 non-null  int64  \n",
      " 14  sellingprice  558811 non-null  int64  \n",
      " 15  saledate      558811 non-null  object \n",
      "dtypes: float64(2), int64(3), object(11)\n",
      "memory usage: 68.2+ MB\n"
     ]
    }
   ],
   "source": [
    "df.info()"
   ]
  },
  {
   "cell_type": "markdown",
   "metadata": {},
   "source": [
    "# Nicht benötigte Spalten entfernen\n",
    "\n",
    "* trim\n",
    "* vin\n",
    "* mmr"
   ]
  },
  {
   "cell_type": "code",
   "execution_count": 8,
   "metadata": {},
   "outputs": [],
   "source": [
    "df = df.drop([\"trim\", \"vin\", \"mmr\"], axis=1)"
   ]
  },
  {
   "cell_type": "code",
   "execution_count": 9,
   "metadata": {},
   "outputs": [
    {
     "name": "stdout",
     "output_type": "stream",
     "text": [
      "<class 'pandas.core.frame.DataFrame'>\n",
      "RangeIndex: 558811 entries, 0 to 558810\n",
      "Data columns (total 13 columns):\n",
      " #   Column        Non-Null Count   Dtype  \n",
      "---  ------        --------------   -----  \n",
      " 0   year          558811 non-null  int64  \n",
      " 1   make          548510 non-null  object \n",
      " 2   model         548412 non-null  object \n",
      " 3   body          545616 non-null  object \n",
      " 4   transmission  493458 non-null  object \n",
      " 5   state         558811 non-null  object \n",
      " 6   condition     547017 non-null  float64\n",
      " 7   odometer      558717 non-null  float64\n",
      " 8   color         558062 non-null  object \n",
      " 9   interior      558062 non-null  object \n",
      " 10  seller        558811 non-null  object \n",
      " 11  sellingprice  558811 non-null  int64  \n",
      " 12  saledate      558811 non-null  object \n",
      "dtypes: float64(2), int64(2), object(9)\n",
      "memory usage: 55.4+ MB\n"
     ]
    }
   ],
   "source": [
    "df.info()"
   ]
  },
  {
   "cell_type": "markdown",
   "metadata": {},
   "source": [
    "## Rename Columns"
   ]
  },
  {
   "cell_type": "code",
   "execution_count": 10,
   "metadata": {},
   "outputs": [],
   "source": [
    "df = df.rename(columns={\n",
    "\"make\" : \"brand\",\n",
    "\"body\" : \"type\",\n",
    "\"transmission\" : \"drivetrain\",\n",
    "\"odometer\" : \"miles\"} \n",
    "    )"
   ]
  },
  {
   "cell_type": "code",
   "execution_count": 11,
   "metadata": {},
   "outputs": [
    {
     "name": "stdout",
     "output_type": "stream",
     "text": [
      "<class 'pandas.core.frame.DataFrame'>\n",
      "RangeIndex: 558811 entries, 0 to 558810\n",
      "Data columns (total 13 columns):\n",
      " #   Column        Non-Null Count   Dtype  \n",
      "---  ------        --------------   -----  \n",
      " 0   year          558811 non-null  int64  \n",
      " 1   brand         548510 non-null  object \n",
      " 2   model         548412 non-null  object \n",
      " 3   type          545616 non-null  object \n",
      " 4   drivetrain    493458 non-null  object \n",
      " 5   state         558811 non-null  object \n",
      " 6   condition     547017 non-null  float64\n",
      " 7   miles         558717 non-null  float64\n",
      " 8   color         558062 non-null  object \n",
      " 9   interior      558062 non-null  object \n",
      " 10  seller        558811 non-null  object \n",
      " 11  sellingprice  558811 non-null  int64  \n",
      " 12  saledate      558811 non-null  object \n",
      "dtypes: float64(2), int64(2), object(9)\n",
      "memory usage: 55.4+ MB\n"
     ]
    }
   ],
   "source": [
    "df.info()"
   ]
  },
  {
   "cell_type": "code",
   "execution_count": 12,
   "metadata": {},
   "outputs": [
    {
     "data": {
      "text/plain": [
       "year              int64\n",
       "brand            object\n",
       "model            object\n",
       "type             object\n",
       "drivetrain       object\n",
       "state            object\n",
       "condition       float64\n",
       "miles           float64\n",
       "color            object\n",
       "interior         object\n",
       "seller           object\n",
       "sellingprice      int64\n",
       "saledate         object\n",
       "dtype: object"
      ]
     },
     "execution_count": 12,
     "metadata": {},
     "output_type": "execute_result"
    }
   ],
   "source": [
    "df.dtypes"
   ]
  },
  {
   "cell_type": "markdown",
   "metadata": {},
   "source": [
    "# Fehlende Werte löschen"
   ]
  },
  {
   "cell_type": "code",
   "execution_count": 13,
   "metadata": {},
   "outputs": [
    {
     "data": {
      "text/plain": [
       "year                0\n",
       "brand           10301\n",
       "model           10399\n",
       "type            13195\n",
       "drivetrain      65353\n",
       "state               0\n",
       "condition       11794\n",
       "miles              94\n",
       "color             749\n",
       "interior          749\n",
       "seller              0\n",
       "sellingprice        0\n",
       "saledate            0\n",
       "dtype: int64"
      ]
     },
     "execution_count": 13,
     "metadata": {},
     "output_type": "execute_result"
    }
   ],
   "source": [
    "# Fehlende Werte ermitteln\n",
    "df.isna().sum()"
   ]
  },
  {
   "cell_type": "code",
   "execution_count": 14,
   "metadata": {},
   "outputs": [],
   "source": [
    "df = df.dropna()"
   ]
  },
  {
   "cell_type": "code",
   "execution_count": 15,
   "metadata": {},
   "outputs": [
    {
     "data": {
      "text/plain": [
       "year            0\n",
       "brand           0\n",
       "model           0\n",
       "type            0\n",
       "drivetrain      0\n",
       "state           0\n",
       "condition       0\n",
       "miles           0\n",
       "color           0\n",
       "interior        0\n",
       "seller          0\n",
       "sellingprice    0\n",
       "saledate        0\n",
       "dtype: int64"
      ]
     },
     "execution_count": 15,
     "metadata": {},
     "output_type": "execute_result"
    }
   ],
   "source": [
    "df.isna().sum()"
   ]
  },
  {
   "cell_type": "markdown",
   "metadata": {},
   "source": [
    "# Alles in lowercase umwandeln"
   ]
  },
  {
   "cell_type": "code",
   "execution_count": 16,
   "metadata": {},
   "outputs": [
    {
     "data": {
      "text/plain": [
       "Ford             81014\n",
       "Chevrolet        54150\n",
       "Nissan           44043\n",
       "Toyota           35313\n",
       "Dodge            27183\n",
       "Honda            24781\n",
       "Hyundai          18663\n",
       "BMW              17509\n",
       "Kia              15830\n",
       "Chrysler         15135\n",
       "Infiniti         14011\n",
       "Mercedes-Benz    14008\n",
       "Jeep             12735\n",
       "Volkswagen       10780\n",
       "Lexus            10409\n",
       "GMC               9217\n",
       "Mazda             6930\n",
       "Cadillac          6315\n",
       "Lincoln           4926\n",
       "Audi              4802\n",
       "Acura             4503\n",
       "Buick             4470\n",
       "Subaru            4369\n",
       "Ram               4044\n",
       "Pontiac           4018\n",
       "Mitsubishi        3661\n",
       "Volvo             3082\n",
       "MINI              2946\n",
       "Saturn            2570\n",
       "Mercury           1571\n",
       "Scion             1545\n",
       "Land Rover        1322\n",
       "Jaguar            1257\n",
       "Porsche           1157\n",
       "Suzuki             977\n",
       "HUMMER             768\n",
       "FIAT               725\n",
       "Saab               416\n",
       "smart              343\n",
       "Oldsmobile         318\n",
       "Isuzu              179\n",
       "Maserati           109\n",
       "Bentley            105\n",
       "Aston Martin        24\n",
       "Tesla               23\n",
       "Ferrari             17\n",
       "Rolls-Royce         16\n",
       "Plymouth            16\n",
       "Geo                 16\n",
       "Fisker               9\n",
       "Lamborghini          3\n",
       "Daewoo               2\n",
       "Lotus                1\n",
       "Name: brand, dtype: int64"
      ]
     },
     "execution_count": 16,
     "metadata": {},
     "output_type": "execute_result"
    }
   ],
   "source": [
    "df[\"brand\"].value_counts()"
   ]
  },
  {
   "cell_type": "code",
   "execution_count": 17,
   "metadata": {},
   "outputs": [],
   "source": [
    "df[\"brand\"] = df[\"brand\"].str.lower()\n",
    "df[\"model\"] = df[\"model\"].str.lower()\n",
    "df[\"type\"] = df[\"type\"].str.lower()\n"
   ]
  },
  {
   "cell_type": "code",
   "execution_count": 18,
   "metadata": {},
   "outputs": [
    {
     "data": {
      "text/plain": [
       "0      kia\n",
       "1      kia\n",
       "2      bmw\n",
       "3    volvo\n",
       "4      bmw\n",
       "Name: brand, dtype: object"
      ]
     },
     "execution_count": 18,
     "metadata": {},
     "output_type": "execute_result"
    }
   ],
   "source": [
    "df[\"brand\"].head()"
   ]
  },
  {
   "cell_type": "markdown",
   "metadata": {},
   "source": [
    "# Kategorial oder Numerisch?\n",
    "\n",
    "* year = categorial\n",
    "* brand = categorial\n",
    "* model = categorial\n",
    "* type = categorial\n",
    "* drivetrain = categorial\n",
    "* state = categorial\n",
    "* condition = categorial\n",
    "* miles = numeric\n",
    "* color = categorial\n",
    "* interior = categorial\n",
    "* seller = categorial\n",
    "* ratingprice = numeric\n",
    "* sellingprice = numeric\n",
    "* saledate = categorial"
   ]
  },
  {
   "cell_type": "code",
   "execution_count": 19,
   "metadata": {},
   "outputs": [],
   "source": [
    "# In kategorische Variablen umwandeln:\n",
    "\n",
    "for cat in [\"year\", \"brand\", \"model\", \"type\", \"drivetrain\", \"state\", \"condition\", \"color\", \"interior\", \"seller\", \"saledate\"]:\n",
    "    df[cat] = df[cat].astype(\"category\")"
   ]
  },
  {
   "cell_type": "code",
   "execution_count": 20,
   "metadata": {},
   "outputs": [
    {
     "data": {
      "text/plain": [
       "year            category\n",
       "brand           category\n",
       "model           category\n",
       "type            category\n",
       "drivetrain      category\n",
       "state           category\n",
       "condition       category\n",
       "miles            float64\n",
       "color           category\n",
       "interior        category\n",
       "seller          category\n",
       "sellingprice       int64\n",
       "saledate        category\n",
       "dtype: object"
      ]
     },
     "execution_count": 20,
     "metadata": {},
     "output_type": "execute_result"
    }
   ],
   "source": [
    "df.dtypes"
   ]
  },
  {
   "cell_type": "code",
   "execution_count": 21,
   "metadata": {},
   "outputs": [
    {
     "data": {
      "text/html": [
       "<div>\n",
       "<style scoped>\n",
       "    .dataframe tbody tr th:only-of-type {\n",
       "        vertical-align: middle;\n",
       "    }\n",
       "\n",
       "    .dataframe tbody tr th {\n",
       "        vertical-align: top;\n",
       "    }\n",
       "\n",
       "    .dataframe thead th {\n",
       "        text-align: right;\n",
       "    }\n",
       "</style>\n",
       "<table border=\"1\" class=\"dataframe\">\n",
       "  <thead>\n",
       "    <tr style=\"text-align: right;\">\n",
       "      <th></th>\n",
       "      <th>count</th>\n",
       "      <th>unique</th>\n",
       "      <th>top</th>\n",
       "      <th>freq</th>\n",
       "    </tr>\n",
       "  </thead>\n",
       "  <tbody>\n",
       "    <tr>\n",
       "      <th>year</th>\n",
       "      <td>472336</td>\n",
       "      <td>26</td>\n",
       "      <td>2013</td>\n",
       "      <td>87474</td>\n",
       "    </tr>\n",
       "    <tr>\n",
       "      <th>brand</th>\n",
       "      <td>472336</td>\n",
       "      <td>53</td>\n",
       "      <td>ford</td>\n",
       "      <td>81014</td>\n",
       "    </tr>\n",
       "    <tr>\n",
       "      <th>model</th>\n",
       "      <td>472336</td>\n",
       "      <td>764</td>\n",
       "      <td>altima</td>\n",
       "      <td>16346</td>\n",
       "    </tr>\n",
       "    <tr>\n",
       "      <th>type</th>\n",
       "      <td>472336</td>\n",
       "      <td>45</td>\n",
       "      <td>sedan</td>\n",
       "      <td>211308</td>\n",
       "    </tr>\n",
       "    <tr>\n",
       "      <th>drivetrain</th>\n",
       "      <td>472336</td>\n",
       "      <td>2</td>\n",
       "      <td>automatic</td>\n",
       "      <td>455974</td>\n",
       "    </tr>\n",
       "    <tr>\n",
       "      <th>state</th>\n",
       "      <td>472336</td>\n",
       "      <td>34</td>\n",
       "      <td>fl</td>\n",
       "      <td>75243</td>\n",
       "    </tr>\n",
       "    <tr>\n",
       "      <th>condition</th>\n",
       "      <td>472336.0</td>\n",
       "      <td>41.0</td>\n",
       "      <td>1.9</td>\n",
       "      <td>36652.0</td>\n",
       "    </tr>\n",
       "    <tr>\n",
       "      <th>color</th>\n",
       "      <td>472336</td>\n",
       "      <td>20</td>\n",
       "      <td>black</td>\n",
       "      <td>93245</td>\n",
       "    </tr>\n",
       "    <tr>\n",
       "      <th>interior</th>\n",
       "      <td>472336</td>\n",
       "      <td>17</td>\n",
       "      <td>black</td>\n",
       "      <td>209870</td>\n",
       "    </tr>\n",
       "    <tr>\n",
       "      <th>seller</th>\n",
       "      <td>472336</td>\n",
       "      <td>11927</td>\n",
       "      <td>ford motor credit company,llc</td>\n",
       "      <td>17756</td>\n",
       "    </tr>\n",
       "    <tr>\n",
       "      <th>saledate</th>\n",
       "      <td>472336</td>\n",
       "      <td>3609</td>\n",
       "      <td>Tue Feb 10 2015 01:30:00 GMT-0800 (PST)</td>\n",
       "      <td>5004</td>\n",
       "    </tr>\n",
       "  </tbody>\n",
       "</table>\n",
       "</div>"
      ],
      "text/plain": [
       "               count unique                                      top     freq\n",
       "year          472336     26                                     2013    87474\n",
       "brand         472336     53                                     ford    81014\n",
       "model         472336    764                                   altima    16346\n",
       "type          472336     45                                    sedan   211308\n",
       "drivetrain    472336      2                                automatic   455974\n",
       "state         472336     34                                       fl    75243\n",
       "condition   472336.0   41.0                                      1.9  36652.0\n",
       "color         472336     20                                    black    93245\n",
       "interior      472336     17                                    black   209870\n",
       "seller        472336  11927            ford motor credit company,llc    17756\n",
       "saledate      472336   3609  Tue Feb 10 2015 01:30:00 GMT-0800 (PST)     5004"
      ]
     },
     "execution_count": 21,
     "metadata": {},
     "output_type": "execute_result"
    }
   ],
   "source": [
    "df.describe(include=\"category\").T"
   ]
  },
  {
   "cell_type": "code",
   "execution_count": 22,
   "metadata": {},
   "outputs": [
    {
     "data": {
      "text/html": [
       "<div>\n",
       "<style scoped>\n",
       "    .dataframe tbody tr th:only-of-type {\n",
       "        vertical-align: middle;\n",
       "    }\n",
       "\n",
       "    .dataframe tbody tr th {\n",
       "        vertical-align: top;\n",
       "    }\n",
       "\n",
       "    .dataframe thead th {\n",
       "        text-align: right;\n",
       "    }\n",
       "</style>\n",
       "<table border=\"1\" class=\"dataframe\">\n",
       "  <thead>\n",
       "    <tr style=\"text-align: right;\">\n",
       "      <th></th>\n",
       "      <th>miles</th>\n",
       "      <th>sellingprice</th>\n",
       "    </tr>\n",
       "  </thead>\n",
       "  <tbody>\n",
       "    <tr>\n",
       "      <th>count</th>\n",
       "      <td>472336.000000</td>\n",
       "      <td>472336.000000</td>\n",
       "    </tr>\n",
       "    <tr>\n",
       "      <th>mean</th>\n",
       "      <td>66701.070003</td>\n",
       "      <td>13690.403670</td>\n",
       "    </tr>\n",
       "    <tr>\n",
       "      <th>std</th>\n",
       "      <td>51939.183430</td>\n",
       "      <td>9612.962279</td>\n",
       "    </tr>\n",
       "    <tr>\n",
       "      <th>min</th>\n",
       "      <td>1.000000</td>\n",
       "      <td>1.000000</td>\n",
       "    </tr>\n",
       "    <tr>\n",
       "      <th>25%</th>\n",
       "      <td>28137.000000</td>\n",
       "      <td>7200.000000</td>\n",
       "    </tr>\n",
       "    <tr>\n",
       "      <th>50%</th>\n",
       "      <td>51084.000000</td>\n",
       "      <td>12200.000000</td>\n",
       "    </tr>\n",
       "    <tr>\n",
       "      <th>75%</th>\n",
       "      <td>96589.000000</td>\n",
       "      <td>18200.000000</td>\n",
       "    </tr>\n",
       "    <tr>\n",
       "      <th>max</th>\n",
       "      <td>999999.000000</td>\n",
       "      <td>230000.000000</td>\n",
       "    </tr>\n",
       "  </tbody>\n",
       "</table>\n",
       "</div>"
      ],
      "text/plain": [
       "               miles   sellingprice\n",
       "count  472336.000000  472336.000000\n",
       "mean    66701.070003   13690.403670\n",
       "std     51939.183430    9612.962279\n",
       "min         1.000000       1.000000\n",
       "25%     28137.000000    7200.000000\n",
       "50%     51084.000000   12200.000000\n",
       "75%     96589.000000   18200.000000\n",
       "max    999999.000000  230000.000000"
      ]
     },
     "execution_count": 22,
     "metadata": {},
     "output_type": "execute_result"
    }
   ],
   "source": [
    "df.describe()"
   ]
  },
  {
   "cell_type": "markdown",
   "metadata": {},
   "source": [
    "# Variable lists\n",
    "\n",
    "Furthermore, we prepare our data for the following processes of data splitting and building of data pipelines."
   ]
  },
  {
   "cell_type": "code",
   "execution_count": 23,
   "metadata": {},
   "outputs": [
    {
     "name": "stdout",
     "output_type": "stream",
     "text": [
      "['miles', 'sellingprice'] ['year', 'brand', 'model', 'type', 'drivetrain', 'state', 'condition', 'color', 'interior', 'seller', 'saledate']\n"
     ]
    }
   ],
   "source": [
    "# list of all numerical data\n",
    "list_num = df.select_dtypes(include=[np.number]).columns.tolist()\n",
    "\n",
    "# list of all categorical data\n",
    "list_cat = df.select_dtypes(include=['category']).columns.tolist()\n",
    "\n",
    "print(list_num, list_cat)\n"
   ]
  },
  {
   "cell_type": "code",
   "execution_count": 24,
   "metadata": {},
   "outputs": [],
   "source": [
    "# define outcome variable as y_label\n",
    "y_label = 'sellingprice'\n",
    "\n",
    "# select features\n",
    "features = df.drop(columns=[y_label]).columns.tolist()\n",
    "\n",
    "# create feature data for data splitting\n",
    "X = df[features]\n",
    "\n",
    "# list of numeric features\n",
    "feat_num = X.select_dtypes(include=[np.number]).columns.tolist()\n",
    "\n",
    "# list of categorical features\n",
    "feat_cat = X.select_dtypes(include=['category']).columns.tolist() \n",
    "\n",
    "# create response for data splitting\n",
    "y = df[y_label]"
   ]
  },
  {
   "cell_type": "code",
   "execution_count": 25,
   "metadata": {},
   "outputs": [
    {
     "name": "stdout",
     "output_type": "stream",
     "text": [
      "['miles']\n"
     ]
    }
   ],
   "source": [
    "print(feat_num)"
   ]
  },
  {
   "cell_type": "markdown",
   "metadata": {},
   "source": [
    "# Train and test split"
   ]
  },
  {
   "cell_type": "code",
   "execution_count": 26,
   "metadata": {},
   "outputs": [],
   "source": [
    "from sklearn.model_selection import train_test_split\n",
    "\n",
    "X_train, X_test, y_train, y_test = train_test_split(X, y, test_size=0.2, random_state=42)"
   ]
  },
  {
   "cell_type": "markdown",
   "metadata": {},
   "source": [
    "# Data exploration set\n",
    "\n",
    "We make a copy of the training data since we don’t want to alter our data during data exploration. We will use this data for our exploratory data analysis."
   ]
  },
  {
   "cell_type": "code",
   "execution_count": 27,
   "metadata": {},
   "outputs": [],
   "source": [
    "df_train = pd.DataFrame(X_train.copy())\n",
    "df_train = df_train.join(pd.DataFrame(y_train))"
   ]
  },
  {
   "cell_type": "markdown",
   "metadata": {},
   "source": [
    "# Analyze data \n",
    "## Categorical data"
   ]
  },
  {
   "cell_type": "code",
   "execution_count": 28,
   "metadata": {},
   "outputs": [
    {
     "data": {
      "text/html": [
       "<div>\n",
       "<style scoped>\n",
       "    .dataframe tbody tr th:only-of-type {\n",
       "        vertical-align: middle;\n",
       "    }\n",
       "\n",
       "    .dataframe tbody tr th {\n",
       "        vertical-align: top;\n",
       "    }\n",
       "\n",
       "    .dataframe thead th {\n",
       "        text-align: right;\n",
       "    }\n",
       "</style>\n",
       "<table border=\"1\" class=\"dataframe\">\n",
       "  <thead>\n",
       "    <tr style=\"text-align: right;\">\n",
       "      <th></th>\n",
       "      <th>count</th>\n",
       "      <th>unique</th>\n",
       "      <th>top</th>\n",
       "      <th>freq</th>\n",
       "    </tr>\n",
       "  </thead>\n",
       "  <tbody>\n",
       "    <tr>\n",
       "      <th>year</th>\n",
       "      <td>377868</td>\n",
       "      <td>26</td>\n",
       "      <td>2012</td>\n",
       "      <td>69957</td>\n",
       "    </tr>\n",
       "    <tr>\n",
       "      <th>brand</th>\n",
       "      <td>377868</td>\n",
       "      <td>53</td>\n",
       "      <td>ford</td>\n",
       "      <td>64731</td>\n",
       "    </tr>\n",
       "    <tr>\n",
       "      <th>model</th>\n",
       "      <td>377868</td>\n",
       "      <td>754</td>\n",
       "      <td>altima</td>\n",
       "      <td>13048</td>\n",
       "    </tr>\n",
       "    <tr>\n",
       "      <th>type</th>\n",
       "      <td>377868</td>\n",
       "      <td>44</td>\n",
       "      <td>sedan</td>\n",
       "      <td>168956</td>\n",
       "    </tr>\n",
       "    <tr>\n",
       "      <th>drivetrain</th>\n",
       "      <td>377868</td>\n",
       "      <td>2</td>\n",
       "      <td>automatic</td>\n",
       "      <td>364819</td>\n",
       "    </tr>\n",
       "    <tr>\n",
       "      <th>state</th>\n",
       "      <td>377868</td>\n",
       "      <td>34</td>\n",
       "      <td>fl</td>\n",
       "      <td>60273</td>\n",
       "    </tr>\n",
       "    <tr>\n",
       "      <th>condition</th>\n",
       "      <td>377868.0</td>\n",
       "      <td>41.0</td>\n",
       "      <td>1.9</td>\n",
       "      <td>29476.0</td>\n",
       "    </tr>\n",
       "    <tr>\n",
       "      <th>color</th>\n",
       "      <td>377868</td>\n",
       "      <td>20</td>\n",
       "      <td>black</td>\n",
       "      <td>74688</td>\n",
       "    </tr>\n",
       "    <tr>\n",
       "      <th>interior</th>\n",
       "      <td>377868</td>\n",
       "      <td>17</td>\n",
       "      <td>black</td>\n",
       "      <td>167865</td>\n",
       "    </tr>\n",
       "    <tr>\n",
       "      <th>seller</th>\n",
       "      <td>377868</td>\n",
       "      <td>11070</td>\n",
       "      <td>ford motor credit company,llc</td>\n",
       "      <td>14152</td>\n",
       "    </tr>\n",
       "    <tr>\n",
       "      <th>saledate</th>\n",
       "      <td>377868</td>\n",
       "      <td>3485</td>\n",
       "      <td>Tue Feb 10 2015 01:30:00 GMT-0800 (PST)</td>\n",
       "      <td>4004</td>\n",
       "    </tr>\n",
       "  </tbody>\n",
       "</table>\n",
       "</div>"
      ],
      "text/plain": [
       "               count unique                                      top     freq\n",
       "year          377868     26                                     2012    69957\n",
       "brand         377868     53                                     ford    64731\n",
       "model         377868    754                                   altima    13048\n",
       "type          377868     44                                    sedan   168956\n",
       "drivetrain    377868      2                                automatic   364819\n",
       "state         377868     34                                       fl    60273\n",
       "condition   377868.0   41.0                                      1.9  29476.0\n",
       "color         377868     20                                    black    74688\n",
       "interior      377868     17                                    black   167865\n",
       "seller        377868  11070            ford motor credit company,llc    14152\n",
       "saledate      377868   3485  Tue Feb 10 2015 01:30:00 GMT-0800 (PST)     4004"
      ]
     },
     "execution_count": 28,
     "metadata": {},
     "output_type": "execute_result"
    }
   ],
   "source": [
    "df_train.describe(include=\"category\").T "
   ]
  },
  {
   "cell_type": "code",
   "execution_count": 29,
   "metadata": {},
   "outputs": [
    {
     "name": "stdout",
     "output_type": "stream",
     "text": [
      "year \n",
      " 2012    69957\n",
      "2013    69718\n",
      "2014    55689\n",
      "2011    33096\n",
      "2008    21642\n",
      "2007    20355\n",
      "2010    18143\n",
      "2006    17315\n",
      "2009    14412\n",
      "2005    13765\n",
      "2004    10921\n",
      "2003     8309\n",
      "2015     6433\n",
      "2002     6140\n",
      "2001     4119\n",
      "2000     2740\n",
      "1999     1783\n",
      "1998     1180\n",
      "1997      825\n",
      "1996      449\n",
      "1995      392\n",
      "1994      229\n",
      "1993      106\n",
      "1992       82\n",
      "1991       43\n",
      "1990       25\n",
      "Name: year, dtype: int64\n",
      "brand \n",
      " ford             64731\n",
      "chevrolet        43371\n",
      "nissan           35258\n",
      "toyota           28151\n",
      "dodge            21684\n",
      "honda            19839\n",
      "hyundai          14898\n",
      "bmw              14090\n",
      "kia              12707\n",
      "chrysler         12082\n",
      "infiniti         11248\n",
      "mercedes-benz    11162\n",
      "jeep             10169\n",
      "volkswagen        8648\n",
      "lexus             8339\n",
      "gmc               7374\n",
      "mazda             5514\n",
      "cadillac          5070\n",
      "lincoln           3916\n",
      "audi              3828\n",
      "acura             3616\n",
      "buick             3585\n",
      "subaru            3519\n",
      "pontiac           3272\n",
      "ram               3236\n",
      "mitsubishi        2927\n",
      "volvo             2463\n",
      "mini              2351\n",
      "saturn            2056\n",
      "mercury           1259\n",
      "scion             1234\n",
      "land rover        1077\n",
      "jaguar            1005\n",
      "porsche            930\n",
      "suzuki             784\n",
      "hummer             619\n",
      "fiat               564\n",
      "saab               338\n",
      "smart              271\n",
      "oldsmobile         259\n",
      "isuzu              153\n",
      "bentley             87\n",
      "maserati            82\n",
      "tesla               18\n",
      "aston martin        18\n",
      "rolls-royce         15\n",
      "geo                 15\n",
      "plymouth            13\n",
      "ferrari             10\n",
      "fisker               8\n",
      "lamborghini          3\n",
      "lotus                1\n",
      "daewoo               1\n",
      "Name: brand, dtype: int64\n",
      "model \n",
      " altima       13048\n",
      "fusion        9638\n",
      "f-150         9496\n",
      "camry         8730\n",
      "escape        8549\n",
      "             ...  \n",
      "q3               0\n",
      "gransport        0\n",
      "ram van          0\n",
      "h1               0\n",
      "8 series         0\n",
      "Name: model, Length: 764, dtype: int64\n",
      "type \n",
      " sedan                      168956\n",
      "suv                         96929\n",
      "hatchback                   19036\n",
      "minivan                     17416\n",
      "coupe                       12771\n",
      "wagon                       11427\n",
      "crew cab                    11406\n",
      "convertible                  7430\n",
      "supercrew                    6001\n",
      "g sedan                      5611\n",
      "supercab                     3349\n",
      "regular cab                  3254\n",
      "extended cab                 3152\n",
      "van                          2820\n",
      "quad cab                     2818\n",
      "g coupe                      1192\n",
      "double cab                   1187\n",
      "e-series van                  873\n",
      "crewmax cab                   400\n",
      "king cab                      363\n",
      "g convertible                 244\n",
      "genesis coupe                 229\n",
      "access cab                    217\n",
      "koup                          143\n",
      "club cab                      123\n",
      "cts coupe                      99\n",
      "mega cab                       74\n",
      "elantra coupe                  70\n",
      "promaster cargo van            45\n",
      "beetle convertible             39\n",
      "q60 coupe                      27\n",
      "q60 convertible                25\n",
      "tsx sport wagon                25\n",
      "xtracab                        23\n",
      "cts-v coupe                    20\n",
      "g37 convertible                15\n",
      "transit van                    14\n",
      "regular-cab                    12\n",
      "g37 coupe                      10\n",
      "granturismo convertible         9\n",
      "cts wagon                       7\n",
      "cab plus 4                      3\n",
      "cab plus                        3\n",
      "cts-v wagon                     1\n",
      "ram van                         0\n",
      "Name: type, dtype: int64\n",
      "drivetrain \n",
      " automatic    364819\n",
      "manual        13049\n",
      "Name: drivetrain, dtype: int64\n",
      "state \n",
      " fl    60273\n",
      "ca    53080\n",
      "tx    33286\n",
      "ga    24699\n",
      "pa    19307\n",
      "nj    18398\n",
      "il    17106\n",
      "oh    16371\n",
      "tn    15383\n",
      "nc    14980\n",
      "mo    12157\n",
      "mi    11358\n",
      "nv     9354\n",
      "md     7765\n",
      "va     7514\n",
      "wi     7307\n",
      "mn     6867\n",
      "az     6143\n",
      "wa     5588\n",
      "co     5021\n",
      "ma     4941\n",
      "ny     3824\n",
      "in     3127\n",
      "sc     2995\n",
      "ne     2981\n",
      "pr     1928\n",
      "ut     1383\n",
      "la     1374\n",
      "ms     1368\n",
      "hi      962\n",
      "or      832\n",
      "nm      130\n",
      "ok       45\n",
      "al       21\n",
      "Name: state, dtype: int64\n",
      "condition \n",
      " 1.9    29476\n",
      "3.5    18500\n",
      "3.7    18084\n",
      "4.4    17729\n",
      "4.3    17269\n",
      "4.2    16839\n",
      "3.6    16081\n",
      "4.1    16018\n",
      "3.9    13965\n",
      "2.0    13852\n",
      "4.0    13618\n",
      "2.8    13350\n",
      "2.9    13157\n",
      "3.8    13063\n",
      "3.4    12160\n",
      "2.7    11363\n",
      "4.9     8864\n",
      "2.5     8824\n",
      "4.6     8645\n",
      "4.8     8643\n",
      "4.5     8585\n",
      "2.6     8227\n",
      "4.7     7746\n",
      "5.0     7519\n",
      "3.3     7404\n",
      "3.0     7351\n",
      "3.2     6907\n",
      "2.4     6510\n",
      "2.1     6427\n",
      "3.1     6343\n",
      "2.3     5660\n",
      "1.0     4621\n",
      "2.2     4181\n",
      "1.8      232\n",
      "1.7      166\n",
      "1.6      114\n",
      "1.4       95\n",
      "1.5       89\n",
      "1.1       69\n",
      "1.2       66\n",
      "1.3       56\n",
      "Name: condition, dtype: int64\n",
      "color \n",
      " black        74688\n",
      "white        71536\n",
      "silver       56907\n",
      "gray         56416\n",
      "blue         34494\n",
      "red          29852\n",
      "—            17575\n",
      "gold          7634\n",
      "green         7418\n",
      "burgundy      6030\n",
      "beige         5955\n",
      "brown         4502\n",
      "orange        1430\n",
      "purple        1024\n",
      "off-white     1001\n",
      "yellow         868\n",
      "charcoal       347\n",
      "turquoise      153\n",
      "pink            30\n",
      "lime             8\n",
      "Name: color, dtype: int64\n",
      "interior \n",
      " black        167865\n",
      "gray         122090\n",
      "beige         40401\n",
      "tan           30188\n",
      "—              7861\n",
      "brown          5754\n",
      "red             872\n",
      "silver          799\n",
      "blue            733\n",
      "off-white       270\n",
      "gold            231\n",
      "purple          228\n",
      "white           175\n",
      "green           165\n",
      "burgundy        116\n",
      "orange          103\n",
      "yellow           17\n",
      "Name: interior, dtype: int64\n",
      "seller \n",
      " ford motor credit company,llc            14152\n",
      "the hertz corporation                    12938\n",
      "nissan-infiniti lt                       12620\n",
      "santander consumer                       11391\n",
      "avis corporation                          9173\n",
      "                                         ...  \n",
      "enterprise car sales/farmington hills        0\n",
      "republic finance llc/gramercy                0\n",
      "primeritus remarketing/sas                   0\n",
      "enterprise rent a car/london                 0\n",
      "lou fusz subaru st peters                    0\n",
      "Name: seller, Length: 11927, dtype: int64\n",
      "saledate \n",
      " Tue Feb 10 2015 01:30:00 GMT-0800 (PST)    4004\n",
      "Tue Feb 17 2015 01:30:00 GMT-0800 (PST)    3753\n",
      "Tue Jan 27 2015 01:30:00 GMT-0800 (PST)    3748\n",
      "Tue Jan 20 2015 01:30:00 GMT-0800 (PST)    3591\n",
      "Tue Mar 03 2015 01:30:00 GMT-0800 (PST)    3544\n",
      "                                           ... \n",
      "Fri Jan 09 2015 10:30:00 GMT-0800 (PST)       0\n",
      "Wed Apr 08 2015 04:30:00 GMT-0700 (PDT)       0\n",
      "Wed Apr 08 2015 02:35:00 GMT-0700 (PDT)       0\n",
      "Fri Jan 09 2015 02:20:00 GMT-0800 (PST)       0\n",
      "Tue Feb 03 2015 18:00:00 GMT-0800 (PST)       0\n",
      "Name: saledate, Length: 3609, dtype: int64\n"
     ]
    }
   ],
   "source": [
    "for i in list_cat:\n",
    "    print(i, \"\\n\", df_train[i].value_counts())"
   ]
  },
  {
   "cell_type": "code",
   "execution_count": 30,
   "metadata": {},
   "outputs": [
    {
     "data": {
      "image/png": "[encoded data removed]",
      "text/plain": [
       "<Figure size 360x360 with 1 Axes>"
      ]
     },
     "metadata": {
      "filenames": {
       "image/png": "/Users/hendrikpfeifer/MLOps_SoSe22/mlops_docu/_build/jupyter_execute/model_1_SK-learn_41_0.png"
      },
      "needs_background": "light"
     },
     "output_type": "display_data"
    },
    {
     "data": {
      "image/png": "[encoded data removed]",
      "text/plain": [
       "<Figure size 360x360 with 1 Axes>"
      ]
     },
     "metadata": {
      "filenames": {
       "image/png": "/Users/hendrikpfeifer/MLOps_SoSe22/mlops_docu/_build/jupyter_execute/model_1_SK-learn_41_1.png"
      },
      "needs_background": "light"
     },
     "output_type": "display_data"
    },
    {
     "data": {
      "image/png": "[encoded data removed]",
      "text/plain": [
       "<Figure size 360x360 with 1 Axes>"
      ]
     },
     "metadata": {
      "filenames": {
       "image/png": "/Users/hendrikpfeifer/MLOps_SoSe22/mlops_docu/_build/jupyter_execute/model_1_SK-learn_41_2.png"
      },
      "needs_background": "light"
     },
     "output_type": "display_data"
    },
    {
     "data": {
      "image/png": "[encoded data removed]",
      "text/plain": [
       "<Figure size 360x360 with 1 Axes>"
      ]
     },
     "metadata": {
      "filenames": {
       "image/png": "/Users/hendrikpfeifer/MLOps_SoSe22/mlops_docu/_build/jupyter_execute/model_1_SK-learn_41_3.png"
      },
      "needs_background": "light"
     },
     "output_type": "display_data"
    },
    {
     "data": {
      "image/png": "[encoded data removed]",
      "text/plain": [
       "<Figure size 360x360 with 1 Axes>"
      ]
     },
     "metadata": {
      "filenames": {
       "image/png": "/Users/hendrikpfeifer/MLOps_SoSe22/mlops_docu/_build/jupyter_execute/model_1_SK-learn_41_4.png"
      },
      "needs_background": "light"
     },
     "output_type": "display_data"
    },
    {
     "data": {
      "image/png": "[encoded data removed]",
      "text/plain": [
       "<Figure size 360x360 with 1 Axes>"
      ]
     },
     "metadata": {
      "filenames": {
       "image/png": "/Users/hendrikpfeifer/MLOps_SoSe22/mlops_docu/_build/jupyter_execute/model_1_SK-learn_41_5.png"
      },
      "needs_background": "light"
     },
     "output_type": "display_data"
    },
    {
     "name": "stderr",
     "output_type": "stream",
     "text": [
      "/opt/anaconda3/lib/python3.7/site-packages/pandas/io/formats/format.py:1429: FutureWarning: Index.ravel returning ndarray is deprecated; in a future version this will return a view on self.\n",
      "  for val, m in zip(values.ravel(), mask.ravel())\n"
     ]
    },
    {
     "name": "stderr",
     "output_type": "stream",
     "text": [
      "/opt/anaconda3/lib/python3.7/site-packages/pandas/io/formats/format.py:1429: FutureWarning: Index.ravel returning ndarray is deprecated; in a future version this will return a view on self.\n",
      "  for val, m in zip(values.ravel(), mask.ravel())\n"
     ]
    },
    {
     "data": {
      "image/png": "[encoded data removed]",
      "text/plain": [
       "<Figure size 360x360 with 1 Axes>"
      ]
     },
     "metadata": {
      "filenames": {
       "image/png": "/Users/hendrikpfeifer/MLOps_SoSe22/mlops_docu/_build/jupyter_execute/model_1_SK-learn_41_8.png"
      },
      "needs_background": "light"
     },
     "output_type": "display_data"
    },
    {
     "data": {
      "image/png": "[encoded data removed]",
      "text/plain": [
       "<Figure size 360x360 with 1 Axes>"
      ]
     },
     "metadata": {
      "filenames": {
       "image/png": "/Users/hendrikpfeifer/MLOps_SoSe22/mlops_docu/_build/jupyter_execute/model_1_SK-learn_41_9.png"
      },
      "needs_background": "light"
     },
     "output_type": "display_data"
    },
    {
     "data": {
      "image/png": "[encoded data removed]",
      "text/plain": [
       "<Figure size 360x360 with 1 Axes>"
      ]
     },
     "metadata": {
      "filenames": {
       "image/png": "/Users/hendrikpfeifer/MLOps_SoSe22/mlops_docu/_build/jupyter_execute/model_1_SK-learn_41_10.png"
      },
      "needs_background": "light"
     },
     "output_type": "display_data"
    },
    {
     "data": {
      "image/png": "[encoded data removed]",
      "text/plain": [
       "<Figure size 360x360 with 1 Axes>"
      ]
     },
     "metadata": {
      "filenames": {
       "image/png": "/Users/hendrikpfeifer/MLOps_SoSe22/mlops_docu/_build/jupyter_execute/model_1_SK-learn_41_11.png"
      },
      "needs_background": "light"
     },
     "output_type": "display_data"
    },
    {
     "data": {
      "image/png": "[encoded data removed]",
      "text/plain": [
       "<Figure size 360x360 with 1 Axes>"
      ]
     },
     "metadata": {
      "filenames": {
       "image/png": "/Users/hendrikpfeifer/MLOps_SoSe22/mlops_docu/_build/jupyter_execute/model_1_SK-learn_41_12.png"
      },
      "needs_background": "light"
     },
     "output_type": "display_data"
    }
   ],
   "source": [
    "for i in list_cat:\n",
    "\n",
    "    TOP_10 = df[i].value_counts().iloc[:10].index\n",
    "\n",
    "    g = sns.catplot(y=i, \n",
    "            kind=\"count\", \n",
    "            palette=\"ch:.25\", \n",
    "            data=df,\n",
    "            order = TOP_10)    \n",
    "    \n",
    "    plt.title(i)\n",
    "    plt.show();"
   ]
  },
  {
   "cell_type": "code",
   "execution_count": 31,
   "metadata": {},
   "outputs": [
    {
     "name": "stdout",
     "output_type": "stream",
     "text": [
      "year              1990      1991      1992      1993      1994      1995  \\\n",
      "miles         129102.0  166788.0  156969.5  171030.0  160518.0  170083.0   \n",
      "sellingprice     425.0     400.0     450.0     600.0     500.0     550.0   \n",
      "\n",
      "year              1996      1997      1998      1999  ...      2006      2007  \\\n",
      "miles         166638.0  162319.0  163262.0  158782.0  ...  114514.0  107222.0   \n",
      "sellingprice     650.0     800.0     950.0    1050.0  ...    5100.0    6700.0   \n",
      "\n",
      "year             2008     2009     2010     2011     2012     2013     2014  \\\n",
      "miles         97236.0  88692.0  76820.0  53122.5  37700.0  35046.0  19529.0   \n",
      "sellingprice   8100.0   8700.0  10400.0  14600.0  14100.0  14500.0  17400.0   \n",
      "\n",
      "year             2015  \n",
      "miles         11551.0  \n",
      "sellingprice  21800.0  \n",
      "\n",
      "[2 rows x 26 columns]\n",
      "brand           acura  aston martin     audi  bentley      bmw    buick  \\\n",
      "miles         85377.0       22068.5  58195.0  34760.0  50345.5  74334.0   \n",
      "sellingprice  12500.0       52250.0  18500.0  64500.0  20250.0  10300.0   \n",
      "\n",
      "brand         cadillac  chevrolet  chrysler   daewoo  ...      saab    saturn  \\\n",
      "miles          84297.0    64401.0   55482.5  69106.0  ...  101433.5  112302.0   \n",
      "sellingprice   12800.0    10350.0    9900.0    300.0  ...    3050.0    2700.0   \n",
      "\n",
      "brand           scion    smart   subaru   suzuki    tesla   toyota  \\\n",
      "miles         47673.0  25152.0  34907.0  92567.0  15803.5  52705.0   \n",
      "sellingprice   9200.0   5900.0  17000.0   3200.0  65750.0  12300.0   \n",
      "\n",
      "brand         volkswagen    volvo  \n",
      "miles            56264.0  85198.0  \n",
      "sellingprice      9750.0   7400.0  \n",
      "\n",
      "[2 rows x 53 columns]\n",
      "model         1 series     1500  190-class  2 series      200     200sx  \\\n",
      "miles          36953.0  27699.0   153164.0    4233.0  37287.0  170216.0   \n",
      "sellingprice   19775.0  22900.0      750.0   39600.0  10600.0     750.0   \n",
      "\n",
      "model            2500        3  3 series  3 series gran turismo  ...    yaris  \\\n",
      "miles         30613.0  46967.0   50103.0                 4987.0  ...  53827.5   \n",
      "sellingprice  33400.0  12500.0   17250.0                38675.0  ...   8000.0   \n",
      "\n",
      "model            yukon  yukon denali  yukon hybrid  yukon xl       z3  \\\n",
      "miles         108907.0      127151.0       93246.0  110218.0  98641.0   \n",
      "sellingprice   14850.0        1600.0       17000.0   14200.0   4350.0   \n",
      "\n",
      "model              z4     z4 m      zdx    zephyr  \n",
      "miles         40211.5  78425.0  38893.0  109026.0  \n",
      "sellingprice  25125.0  21250.0  25700.0    4300.0  \n",
      "\n",
      "[2 rows x 764 columns]\n",
      "type          access cab  beetle convertible  cab plus  cab plus 4  club cab  \\\n",
      "miles            67001.0             11164.0  120154.0     64289.0  106034.0   \n",
      "sellingprice     15100.0             18000.0    4100.0      9800.0    4500.0   \n",
      "\n",
      "type          convertible    coupe  crew cab  crewmax cab  cts coupe  ...  \\\n",
      "miles             54998.5  50649.0   71600.0      55924.5    36406.0  ...   \n",
      "sellingprice      13900.0  13700.0   21300.0      26600.0    22400.0  ...   \n",
      "\n",
      "type          regular-cab    sedan  supercab  supercrew      suv  transit van  \\\n",
      "miles              9636.5  47298.0   80015.0    50534.0  57598.0      13387.0   \n",
      "sellingprice      17300.0  11000.0   12300.0    23600.0  15100.0      24600.0   \n",
      "\n",
      "type          tsx sport wagon      van    wagon   xtracab  \n",
      "miles                 33642.0  54522.5  69833.0  167059.0  \n",
      "sellingprice          17900.0  15850.0   8800.0    5900.0  \n",
      "\n",
      "[2 rows x 45 columns]\n",
      "drivetrain    automatic   manual\n",
      "miles           50685.0  65060.0\n",
      "sellingprice    12300.0   8900.0\n",
      "state               al       az       ca       co       fl       ga       hi  \\\n",
      "miles         111959.0  58194.0  50559.0  40423.0  43182.0  60163.0  32711.5   \n",
      "sellingprice    7700.0  11000.0  12600.0  14400.0  12900.0  11400.0  12000.0   \n",
      "\n",
      "state              il       in       la  ...       or       pa       pr  \\\n",
      "miles         33317.0  62620.0  64684.0  ...  48500.5  44256.0  43337.0   \n",
      "sellingprice  14300.0   9900.0   9700.0  ...  11100.0  12800.0   9000.0   \n",
      "\n",
      "state              sc       tn       tx       ut       va       wa       wi  \n",
      "miles         74328.0  37275.0  56952.0  86975.0  96721.5  40534.0  52718.0  \n",
      "sellingprice   9700.0  16200.0  12000.0  10500.0   6900.0  13500.0  12500.0  \n",
      "\n",
      "[2 rows x 34 columns]\n",
      "condition          1.0       1.1       1.2       1.3       1.4       1.5  \\\n",
      "miles         110223.0  101959.0  128117.0  110369.5  118366.0  114571.0   \n",
      "sellingprice    2000.0    3900.0    2650.0    2450.0    2500.0    2600.0   \n",
      "\n",
      "condition          1.6       1.7       1.8       1.9  ...      4.1      4.2  \\\n",
      "miles         117775.5  113929.0  108189.5  116555.5  ...  38724.5  36322.0   \n",
      "sellingprice    2900.0    2800.0    3200.0    3650.0  ...  15000.0  15600.0   \n",
      "\n",
      "condition         4.3      4.4      4.5      4.6      4.7      4.8      4.9  \\\n",
      "miles         33518.0  30937.0  27887.0  26207.0  24600.0  22272.0  18021.5   \n",
      "sellingprice  16400.0  17000.0  17750.0  18200.0  18700.0  19000.0  20500.0   \n",
      "\n",
      "condition         5.0  \n",
      "miles         13797.0  \n",
      "sellingprice  22200.0  \n",
      "\n",
      "[2 rows x 41 columns]\n",
      "color           beige    black     blue    brown  burgundy  charcoal     gold  \\\n",
      "miles         88533.0  46945.0  60372.5  41150.0   63472.5   40394.0  96432.5   \n",
      "sellingprice   7900.0  13500.0  10700.0  14100.0   11500.0   14300.0   6500.0   \n",
      "\n",
      "color            gray    green     lime  off-white   orange     pink   purple  \\\n",
      "miles         46915.0  92320.0  40462.5    58781.0  56005.5  40563.0  53121.0   \n",
      "sellingprice  12500.0   6500.0   9950.0    13200.0  11600.0   9750.0  12450.0   \n",
      "\n",
      "color             red   silver  turquoise    white   yellow        —  \n",
      "miles         46274.0  59405.0    89541.0  47970.0  67649.0  32814.0  \n",
      "sellingprice  11700.0  10700.0     7400.0  13200.0  10500.0  16000.0  \n",
      "interior        beige    black     blue    brown  burgundy     gold     gray  \\\n",
      "miles         58023.0  40816.0  99307.0  51089.0   51998.5  72910.0  66996.5   \n",
      "sellingprice  12000.0  13700.0   4600.0  18700.0   14850.0   9900.0  10100.0   \n",
      "\n",
      "interior        green  off-white   orange   purple      red   silver      tan  \\\n",
      "miles         75286.0    26677.0  54560.0  52424.0  34424.5  83606.0  71672.5   \n",
      "sellingprice   9000.0    28750.0  16400.0  11300.0  20900.0   9200.0  11100.0   \n",
      "\n",
      "interior        white   yellow        —  \n",
      "miles         43255.0  31684.0  58799.0  \n",
      "sellingprice  16400.0   9600.0  10600.0  \n"
     ]
    },
    {
     "name": "stdout",
     "output_type": "stream",
     "text": [
      "seller        1 cochran of monroeville  101motors  143 auto sales inc  \\\n",
      "miles                         106396.0    98491.0             93990.0   \n",
      "sellingprice                    4200.0     3750.0              4000.0   \n",
      "\n",
      "seller        159191 canada inc  1st advantage fcu  1st capital finance  \\\n",
      "miles                   56534.0            92626.0             200903.0   \n",
      "sellingprice            19100.0             8200.0                400.0   \n",
      "\n",
      "seller        1st choice automotive corp  1st choice credit union  \\\n",
      "miles                           103250.5                  99599.0   \n",
      "sellingprice                      7750.0                  10000.0   \n",
      "\n",
      "seller        1st choice money center  1st class auto  ...  \\\n",
      "miles                         78577.0        103321.0  ...   \n",
      "sellingprice                    450.0          3300.0  ...   \n",
      "\n",
      "seller        zimbrick volkswagen of madison  zimmerman auto brokers inc  \\\n",
      "miles                                62834.5                     55177.0   \n",
      "sellingprice                         12000.0                     14400.0   \n",
      "\n",
      "seller        zinc auto finance  zinc used auto sales   zipcar  \\\n",
      "miles                  128509.0               77911.0  39635.0   \n",
      "sellingprice             4100.0               19000.0  10000.0   \n",
      "\n",
      "seller        zippy rent a car llc  zmax moto leasing inc  zuma autoboat  \\\n",
      "miles                     119381.0               151800.5       150218.0   \n",
      "sellingprice                4000.0                 6400.0        10000.0   \n",
      "\n",
      "seller        zumbrota ford sales llc  zygi auto corp  \n",
      "miles                             NaN         85419.0  \n",
      "sellingprice                      NaN          7750.0  \n",
      "\n",
      "[2 rows x 11927 columns]\n",
      "saledate      Fri Apr 03 2015 02:00:00 GMT-0700 (PDT)  \\\n",
      "miles                                         37281.0   \n",
      "sellingprice                                  16600.0   \n",
      "\n",
      "saledate      Fri Apr 03 2015 02:15:00 GMT-0700 (PDT)  \\\n",
      "miles                                         38545.0   \n",
      "sellingprice                                  12800.0   \n",
      "\n",
      "saledate      Fri Apr 03 2015 02:20:00 GMT-0700 (PDT)  \\\n",
      "miles                                             1.0   \n",
      "sellingprice                                   2000.0   \n",
      "\n",
      "saledate      Fri Apr 03 2015 03:45:00 GMT-0700 (PDT)  \\\n",
      "miles                                        123997.0   \n",
      "sellingprice                                   9900.0   \n",
      "\n",
      "saledate      Fri Apr 10 2015 02:00:00 GMT-0700 (PDT)  \\\n",
      "miles                                         32770.0   \n",
      "sellingprice                                  13200.0   \n",
      "\n",
      "saledate      Fri Apr 10 2015 02:25:00 GMT-0700 (PDT)  \\\n",
      "miles                                             NaN   \n",
      "sellingprice                                      NaN   \n",
      "\n",
      "saledate      Fri Apr 10 2015 04:45:00 GMT-0700 (PDT)  \\\n",
      "miles                                         55388.0   \n",
      "sellingprice                                  16900.0   \n",
      "\n",
      "saledate      Fri Apr 10 2015 05:00:00 GMT-0700 (PDT)  \\\n",
      "miles                                        102948.0   \n",
      "sellingprice                                   6900.0   \n",
      "\n",
      "saledate      Fri Apr 17 2015 01:29:00 GMT-0700 (PDT)  \\\n",
      "miles                                         92541.0   \n",
      "sellingprice                                    800.0   \n",
      "\n",
      "saledate      Fri Apr 17 2015 02:00:00 GMT-0700 (PDT)  ...  \\\n",
      "miles                                         32275.5  ...   \n",
      "sellingprice                                  14400.0  ...   \n",
      "\n",
      "saledate      Wed May 27 2015 08:25:00 GMT-0700 (PDT)  \\\n",
      "miles                                        128415.0   \n",
      "sellingprice                                   4600.0   \n",
      "\n",
      "saledate      Wed May 27 2015 08:30:00 GMT-0700 (PDT)  \\\n",
      "miles                                         39701.0   \n",
      "sellingprice                                  13000.0   \n",
      "\n",
      "saledate      Wed May 27 2015 08:35:00 GMT-0700 (PDT)  \\\n",
      "miles                                         38935.5   \n",
      "sellingprice                                  13525.0   \n",
      "\n",
      "saledate      Wed May 27 2015 08:40:00 GMT-0700 (PDT)  \\\n",
      "miles                                         56599.0   \n",
      "sellingprice                                  10700.0   \n",
      "\n",
      "saledate      Wed May 27 2015 09:00:00 GMT-0700 (PDT)  \\\n",
      "miles                                        141466.0   \n",
      "sellingprice                                   1100.0   \n",
      "\n",
      "saledate      Wed May 27 2015 10:10:00 GMT-0700 (PDT)  \\\n",
      "miles                                         57126.0   \n",
      "sellingprice                                  10250.0   \n",
      "\n",
      "saledate      Wed May 27 2015 10:15:00 GMT-0700 (PDT)  \\\n",
      "miles                                         88643.0   \n",
      "sellingprice                                   8300.0   \n",
      "\n",
      "saledate      Wed May 27 2015 10:20:00 GMT-0700 (PDT)  \\\n",
      "miles                                        171399.0   \n",
      "sellingprice                                   1300.0   \n",
      "\n",
      "saledate      Wed May 27 2015 10:25:00 GMT-0700 (PDT)  \\\n",
      "miles                                         90545.0   \n",
      "sellingprice                                   5000.0   \n",
      "\n",
      "saledate      Wed May 27 2015 17:00:00 GMT-0700 (PDT)  \n",
      "miles                                         99943.0  \n",
      "sellingprice                                   5500.0  \n",
      "\n",
      "[2 rows x 3609 columns]\n"
     ]
    }
   ],
   "source": [
    "# Numercial gruped by categorical\n",
    "# median\n",
    "for i in list_cat:\n",
    "    print(df_train.groupby(i).median().round(2).T)"
   ]
  },
  {
   "cell_type": "markdown",
   "metadata": {},
   "source": [
    "## Numerical data"
   ]
  },
  {
   "cell_type": "code",
   "execution_count": 32,
   "metadata": {},
   "outputs": [
    {
     "data": {
      "text/html": [
       "<div>\n",
       "<style scoped>\n",
       "    .dataframe tbody tr th:only-of-type {\n",
       "        vertical-align: middle;\n",
       "    }\n",
       "\n",
       "    .dataframe tbody tr th {\n",
       "        vertical-align: top;\n",
       "    }\n",
       "\n",
       "    .dataframe thead th {\n",
       "        text-align: right;\n",
       "    }\n",
       "</style>\n",
       "<table border=\"1\" class=\"dataframe\">\n",
       "  <thead>\n",
       "    <tr style=\"text-align: right;\">\n",
       "      <th></th>\n",
       "      <th>count</th>\n",
       "      <th>mean</th>\n",
       "      <th>std</th>\n",
       "      <th>min</th>\n",
       "      <th>25%</th>\n",
       "      <th>50%</th>\n",
       "      <th>75%</th>\n",
       "      <th>max</th>\n",
       "    </tr>\n",
       "  </thead>\n",
       "  <tbody>\n",
       "    <tr>\n",
       "      <th>miles</th>\n",
       "      <td>377868.0</td>\n",
       "      <td>66715.77</td>\n",
       "      <td>51970.53</td>\n",
       "      <td>1.0</td>\n",
       "      <td>28151.0</td>\n",
       "      <td>51102.0</td>\n",
       "      <td>96611.0</td>\n",
       "      <td>999999.0</td>\n",
       "    </tr>\n",
       "    <tr>\n",
       "      <th>sellingprice</th>\n",
       "      <td>377868.0</td>\n",
       "      <td>13691.10</td>\n",
       "      <td>9608.59</td>\n",
       "      <td>1.0</td>\n",
       "      <td>7200.0</td>\n",
       "      <td>12200.0</td>\n",
       "      <td>18200.0</td>\n",
       "      <td>183000.0</td>\n",
       "    </tr>\n",
       "  </tbody>\n",
       "</table>\n",
       "</div>"
      ],
      "text/plain": [
       "                 count      mean       std  min      25%      50%      75%  \\\n",
       "miles         377868.0  66715.77  51970.53  1.0  28151.0  51102.0  96611.0   \n",
       "sellingprice  377868.0  13691.10   9608.59  1.0   7200.0  12200.0  18200.0   \n",
       "\n",
       "                   max  \n",
       "miles         999999.0  \n",
       "sellingprice  183000.0  "
      ]
     },
     "execution_count": 32,
     "metadata": {},
     "output_type": "execute_result"
    }
   ],
   "source": [
    "# summary of numerical attributes\n",
    "df_train.describe().round(2).T"
   ]
  },
  {
   "cell_type": "code",
   "execution_count": 33,
   "metadata": {},
   "outputs": [
    {
     "data": {
      "image/png": "[encoded data removed]",
      "text/plain": [
       "<Figure size 1440x1080 with 2 Axes>"
      ]
     },
     "metadata": {
      "filenames": {
       "image/png": "/Users/hendrikpfeifer/MLOps_SoSe22/mlops_docu/_build/jupyter_execute/model_1_SK-learn_45_0.png"
      },
      "needs_background": "light"
     },
     "output_type": "display_data"
    }
   ],
   "source": [
    "# histograms\n",
    "df_train.hist(figsize=(20, 15));"
   ]
  },
  {
   "cell_type": "markdown",
   "metadata": {},
   "source": [
    "# Relationships\n",
    "## Correlation with response\n",
    "\n",
    "Detect the relationship between each predictor and the response:\n"
   ]
  },
  {
   "cell_type": "code",
   "execution_count": 34,
   "metadata": {},
   "outputs": [],
   "source": [
    "#sns.pairplot(data=df_train, y_vars=y_label, x_vars=features);"
   ]
  },
  {
   "cell_type": "code",
   "execution_count": 35,
   "metadata": {},
   "outputs": [],
   "source": [
    "# pairplot with one categorical variable\n",
    "#sns.pairplot(data=df_train, y_vars=y_label, x_vars=features);"
   ]
  },
  {
   "cell_type": "code",
   "execution_count": 36,
   "metadata": {},
   "outputs": [
    {
     "name": "stdout",
     "output_type": "stream",
     "text": [
      "                 miles  sellingprice\n",
      "miles         1.000000     -0.577659\n",
      "sellingprice -0.577659      1.000000\n"
     ]
    },
    {
     "data": {
      "text/plain": [
       "<AxesSubplot:>"
      ]
     },
     "execution_count": 36,
     "metadata": {},
     "output_type": "execute_result"
    },
    {
     "data": {
      "image/png": "[encoded data removed]",
      "text/plain": [
       "<Figure size 432x288 with 2 Axes>"
      ]
     },
     "metadata": {
      "filenames": {
       "image/png": "/Users/hendrikpfeifer/MLOps_SoSe22/mlops_docu/_build/jupyter_execute/model_1_SK-learn_49_2.png"
      },
      "needs_background": "light"
     },
     "output_type": "display_data"
    }
   ],
   "source": [
    "# inspect correlation\n",
    "#corr = df_train.corr()\n",
    "#corr_matrix[y_label].sort_values(ascending=False)\n",
    "\n",
    "print(df_train.corr())\n",
    "sns.heatmap(df_train.corr())\n"
   ]
  },
  {
   "cell_type": "code",
   "execution_count": 37,
   "metadata": {},
   "outputs": [],
   "source": [
    "# Data exploration\n",
    "\n",
    "\n",
    "sns.set_theme(style=\"ticks\", color_codes=True)"
   ]
  },
  {
   "cell_type": "code",
   "execution_count": 38,
   "metadata": {},
   "outputs": [
    {
     "data": {
      "image/png": "[encoded data removed]",
      "text/plain": [
       "<Figure size 360x360 with 6 Axes>"
      ]
     },
     "metadata": {
      "filenames": {
       "image/png": "/Users/hendrikpfeifer/MLOps_SoSe22/mlops_docu/_build/jupyter_execute/model_1_SK-learn_51_0.png"
      }
     },
     "output_type": "display_data"
    }
   ],
   "source": [
    "sns.pairplot(df_train);"
   ]
  },
  {
   "cell_type": "code",
   "execution_count": 39,
   "metadata": {},
   "outputs": [
    {
     "data": {
      "text/plain": [
       "<AxesSubplot:xlabel='miles', ylabel='Count'>"
      ]
     },
     "execution_count": 39,
     "metadata": {},
     "output_type": "execute_result"
    },
    {
     "data": {
      "image/png": "[encoded data removed]",
      "text/plain": [
       "<Figure size 432x288 with 1 Axes>"
      ]
     },
     "metadata": {
      "filenames": {
       "image/png": "/Users/hendrikpfeifer/MLOps_SoSe22/mlops_docu/_build/jupyter_execute/model_1_SK-learn_52_1.png"
      }
     },
     "output_type": "display_data"
    }
   ],
   "source": [
    "sns.histplot(data=df_train, x=\"miles\")"
   ]
  },
  {
   "cell_type": "code",
   "execution_count": 40,
   "metadata": {},
   "outputs": [],
   "source": [
    "# sns.histplot(data=df, x=\"ratingprice\")"
   ]
  },
  {
   "cell_type": "code",
   "execution_count": 41,
   "metadata": {},
   "outputs": [
    {
     "data": {
      "text/plain": [
       "<AxesSubplot:xlabel='sellingprice', ylabel='Count'>"
      ]
     },
     "execution_count": 41,
     "metadata": {},
     "output_type": "execute_result"
    },
    {
     "data": {
      "image/png": "[encoded data removed]",
      "text/plain": [
       "<Figure size 432x288 with 1 Axes>"
      ]
     },
     "metadata": {
      "filenames": {
       "image/png": "/Users/hendrikpfeifer/MLOps_SoSe22/mlops_docu/_build/jupyter_execute/model_1_SK-learn_54_1.png"
      }
     },
     "output_type": "display_data"
    }
   ],
   "source": [
    "sns.histplot(data=df_train, x=\"sellingprice\")"
   ]
  },
  {
   "cell_type": "code",
   "execution_count": 42,
   "metadata": {},
   "outputs": [
    {
     "data": {
      "text/plain": [
       "<AxesSubplot:xlabel='brand', ylabel='count'>"
      ]
     },
     "execution_count": 42,
     "metadata": {},
     "output_type": "execute_result"
    },
    {
     "data": {
      "image/png": "[encoded data removed]",
      "text/plain": [
       "<Figure size 432x288 with 1 Axes>"
      ]
     },
     "metadata": {
      "filenames": {
       "image/png": "/Users/hendrikpfeifer/MLOps_SoSe22/mlops_docu/_build/jupyter_execute/model_1_SK-learn_55_1.png"
      }
     },
     "output_type": "display_data"
    }
   ],
   "source": [
    "#Kategorisch\n",
    "\n",
    "sns.countplot(x=\"brand\", data=df_train)"
   ]
  },
  {
   "cell_type": "code",
   "execution_count": 43,
   "metadata": {},
   "outputs": [
    {
     "data": {
      "text/plain": [
       "<AxesSubplot:xlabel='year', ylabel='count'>"
      ]
     },
     "execution_count": 43,
     "metadata": {},
     "output_type": "execute_result"
    },
    {
     "data": {
      "image/png": "[encoded data removed]",
      "text/plain": [
       "<Figure size 432x288 with 1 Axes>"
      ]
     },
     "metadata": {
      "filenames": {
       "image/png": "/Users/hendrikpfeifer/MLOps_SoSe22/mlops_docu/_build/jupyter_execute/model_1_SK-learn_56_1.png"
      }
     },
     "output_type": "display_data"
    }
   ],
   "source": [
    "sns.countplot(x=\"year\", data=df_train)"
   ]
  },
  {
   "cell_type": "markdown",
   "metadata": {},
   "source": [
    "# Fehlende Daten"
   ]
  },
  {
   "cell_type": "code",
   "execution_count": 44,
   "metadata": {},
   "outputs": [
    {
     "data": {
      "image/png": "[encoded data removed]",
      "text/plain": [
       "<Figure size 432x288 with 1 Axes>"
      ]
     },
     "metadata": {
      "filenames": {
       "image/png": "/Users/hendrikpfeifer/MLOps_SoSe22/mlops_docu/_build/jupyter_execute/model_1_SK-learn_58_0.png"
      }
     },
     "output_type": "display_data"
    }
   ],
   "source": [
    "# show missing values (missing values - if present - will be displayed in yellow )\n",
    "sns.heatmap(df_train.isnull(),yticklabels=False,cbar=False,cmap='viridis');"
   ]
  },
  {
   "cell_type": "code",
   "execution_count": 45,
   "metadata": {},
   "outputs": [
    {
     "name": "stdout",
     "output_type": "stream",
     "text": [
      "year            0\n",
      "brand           0\n",
      "model           0\n",
      "type            0\n",
      "drivetrain      0\n",
      "state           0\n",
      "condition       0\n",
      "miles           0\n",
      "color           0\n",
      "interior        0\n",
      "seller          0\n",
      "saledate        0\n",
      "sellingprice    0\n",
      "dtype: int64\n"
     ]
    }
   ],
   "source": [
    "# absolute number of missing values\n",
    "print(df_train.isnull().sum())"
   ]
  },
  {
   "cell_type": "code",
   "execution_count": 46,
   "metadata": {},
   "outputs": [
    {
     "name": "stdout",
     "output_type": "stream",
     "text": [
      "year            0.0\n",
      "brand           0.0\n",
      "model           0.0\n",
      "type            0.0\n",
      "drivetrain      0.0\n",
      "state           0.0\n",
      "condition       0.0\n",
      "miles           0.0\n",
      "color           0.0\n",
      "interior        0.0\n",
      "seller          0.0\n",
      "saledate        0.0\n",
      "sellingprice    0.0\n",
      "dtype: float64\n"
     ]
    }
   ],
   "source": [
    "# percentage of missing values\n",
    "print(df_train.isnull().sum() * 100 / len(df))"
   ]
  },
  {
   "cell_type": "markdown",
   "metadata": {},
   "source": [
    "# Data Pipeline"
   ]
  },
  {
   "cell_type": "code",
   "execution_count": 47,
   "metadata": {},
   "outputs": [],
   "source": [
    "from sklearn.pipeline import Pipeline\n",
    "from sklearn.compose import ColumnTransformer\n",
    "from sklearn.impute import SimpleImputer\n",
    "from sklearn.preprocessing import RobustScaler\n",
    "from sklearn.preprocessing import OneHotEncoder\n"
   ]
  },
  {
   "cell_type": "code",
   "execution_count": 48,
   "metadata": {},
   "outputs": [
    {
     "data": {
      "text/plain": [
       "Pipeline(steps=[('imputer', SimpleImputer(strategy='median')),\n",
       "                ('scaler', RobustScaler())])"
      ]
     },
     "execution_count": 48,
     "metadata": {},
     "output_type": "execute_result"
    }
   ],
   "source": [
    "# build numeric pipeline\n",
    "num_pipeline = Pipeline(steps=[\n",
    "    ('imputer', SimpleImputer(strategy='median')),\n",
    "    ('scaler', RobustScaler())\n",
    "    ])\n",
    "\n",
    "num_pipeline\n",
    "    \n"
   ]
  },
  {
   "cell_type": "code",
   "execution_count": 49,
   "metadata": {},
   "outputs": [
    {
     "data": {
      "text/plain": [
       "Pipeline(steps=[('imputer',\n",
       "                 SimpleImputer(fill_value='missing', strategy='constant')),\n",
       "                ('onehot', OneHotEncoder(handle_unknown='ignore'))])"
      ]
     },
     "execution_count": 49,
     "metadata": {},
     "output_type": "execute_result"
    }
   ],
   "source": [
    "\n",
    "# build categorical pipeline\n",
    "cat_pipeline = Pipeline(steps=[\n",
    "    ('imputer', SimpleImputer(strategy='constant', fill_value='missing')),\n",
    "    ('onehot', OneHotEncoder(handle_unknown='ignore'))\n",
    "    ])\n",
    "    \n",
    "cat_pipeline\n"
   ]
  },
  {
   "cell_type": "code",
   "execution_count": 50,
   "metadata": {},
   "outputs": [
    {
     "data": {
      "text/plain": [
       "ColumnTransformer(transformers=[('num',\n",
       "                                 Pipeline(steps=[('imputer',\n",
       "                                                  SimpleImputer(strategy='median')),\n",
       "                                                 ('scaler', RobustScaler())]),\n",
       "                                 ['miles']),\n",
       "                                ('cat',\n",
       "                                 Pipeline(steps=[('imputer',\n",
       "                                                  SimpleImputer(fill_value='missing',\n",
       "                                                                strategy='constant')),\n",
       "                                                 ('onehot',\n",
       "                                                  OneHotEncoder(handle_unknown='ignore'))]),\n",
       "                                 ['year', 'brand', 'model', 'type',\n",
       "                                  'drivetrain', 'state', 'condition', 'color',\n",
       "                                  'interior', 'seller', 'saledate'])])"
      ]
     },
     "execution_count": 50,
     "metadata": {},
     "output_type": "execute_result"
    }
   ],
   "source": [
    "\n",
    "# create full pipeline\n",
    "full_pipeline = ColumnTransformer(\n",
    "    transformers=[\n",
    "        ('num', num_pipeline, feat_num),\n",
    "        ('cat', cat_pipeline, feat_cat)])\n",
    "\n",
    "\n",
    "full_pipeline"
   ]
  },
  {
   "cell_type": "markdown",
   "metadata": {},
   "source": [
    "# Model\n",
    "## Model Training"
   ]
  },
  {
   "cell_type": "code",
   "execution_count": 51,
   "metadata": {},
   "outputs": [],
   "source": [
    "from sklearn.linear_model import LinearRegression\n",
    "\n",
    "\n",
    "# Use pipeline with linear regression model\n",
    "lm_pipe = Pipeline(steps=[\n",
    "            ('full_pipeline', full_pipeline),\n",
    "            ('lm', LinearRegression())\n",
    "                         ])"
   ]
  },
  {
   "cell_type": "code",
   "execution_count": 52,
   "metadata": {},
   "outputs": [
    {
     "ename": "KeyboardInterrupt",
     "evalue": "",
     "output_type": "error",
     "traceback": [
      "\u001b[0;31m---------------------------------------------------------------------------\u001b[0m",
      "\u001b[0;31mKeyboardInterrupt\u001b[0m                         Traceback (most recent call last)",
      "\u001b[0;32m/var/folders/9r/ym9jxwt15b70q43zrdvqgmdh0000gn/T/ipykernel_24405/1751521163.py\u001b[0m in \u001b[0;36m<module>\u001b[0;34m\u001b[0m\n\u001b[1;32m      4\u001b[0m \u001b[0;34m\u001b[0m\u001b[0m\n\u001b[1;32m      5\u001b[0m \u001b[0;31m# Fit model\u001b[0m\u001b[0;34m\u001b[0m\u001b[0;34m\u001b[0m\u001b[0;34m\u001b[0m\u001b[0m\n\u001b[0;32m----> 6\u001b[0;31m \u001b[0mlm_pipe\u001b[0m\u001b[0;34m.\u001b[0m\u001b[0mfit\u001b[0m\u001b[0;34m(\u001b[0m\u001b[0mX_train\u001b[0m\u001b[0;34m,\u001b[0m \u001b[0my_train\u001b[0m\u001b[0;34m)\u001b[0m\u001b[0;34m\u001b[0m\u001b[0;34m\u001b[0m\u001b[0m\n\u001b[0m\u001b[1;32m      7\u001b[0m \u001b[0;34m\u001b[0m\u001b[0m\n\u001b[1;32m      8\u001b[0m \u001b[0;31m# Obtain model coefficients\u001b[0m\u001b[0;34m\u001b[0m\u001b[0;34m\u001b[0m\u001b[0;34m\u001b[0m\u001b[0m\n",
      "\u001b[0;32m/opt/anaconda3/lib/python3.7/site-packages/sklearn/pipeline.py\u001b[0m in \u001b[0;36mfit\u001b[0;34m(self, X, y, **fit_params)\u001b[0m\n\u001b[1;32m    392\u001b[0m             \u001b[0;32mif\u001b[0m \u001b[0mself\u001b[0m\u001b[0;34m.\u001b[0m\u001b[0m_final_estimator\u001b[0m \u001b[0;34m!=\u001b[0m \u001b[0;34m\"passthrough\"\u001b[0m\u001b[0;34m:\u001b[0m\u001b[0;34m\u001b[0m\u001b[0;34m\u001b[0m\u001b[0m\n\u001b[1;32m    393\u001b[0m                 \u001b[0mfit_params_last_step\u001b[0m \u001b[0;34m=\u001b[0m \u001b[0mfit_params_steps\u001b[0m\u001b[0;34m[\u001b[0m\u001b[0mself\u001b[0m\u001b[0;34m.\u001b[0m\u001b[0msteps\u001b[0m\u001b[0;34m[\u001b[0m\u001b[0;34m-\u001b[0m\u001b[0;36m1\u001b[0m\u001b[0;34m]\u001b[0m\u001b[0;34m[\u001b[0m\u001b[0;36m0\u001b[0m\u001b[0;34m]\u001b[0m\u001b[0;34m]\u001b[0m\u001b[0;34m\u001b[0m\u001b[0;34m\u001b[0m\u001b[0m\n\u001b[0;32m--> 394\u001b[0;31m                 \u001b[0mself\u001b[0m\u001b[0;34m.\u001b[0m\u001b[0m_final_estimator\u001b[0m\u001b[0;34m.\u001b[0m\u001b[0mfit\u001b[0m\u001b[0;34m(\u001b[0m\u001b[0mXt\u001b[0m\u001b[0;34m,\u001b[0m \u001b[0my\u001b[0m\u001b[0;34m,\u001b[0m \u001b[0;34m**\u001b[0m\u001b[0mfit_params_last_step\u001b[0m\u001b[0;34m)\u001b[0m\u001b[0;34m\u001b[0m\u001b[0;34m\u001b[0m\u001b[0m\n\u001b[0m\u001b[1;32m    395\u001b[0m \u001b[0;34m\u001b[0m\u001b[0m\n\u001b[1;32m    396\u001b[0m         \u001b[0;32mreturn\u001b[0m \u001b[0mself\u001b[0m\u001b[0;34m\u001b[0m\u001b[0;34m\u001b[0m\u001b[0m\n",
      "\u001b[0;32m/opt/anaconda3/lib/python3.7/site-packages/sklearn/linear_model/_base.py\u001b[0m in \u001b[0;36mfit\u001b[0;34m(self, X, y, sample_weight)\u001b[0m\n\u001b[1;32m    704\u001b[0m \u001b[0;34m\u001b[0m\u001b[0m\n\u001b[1;32m    705\u001b[0m             \u001b[0;32mif\u001b[0m \u001b[0my\u001b[0m\u001b[0;34m.\u001b[0m\u001b[0mndim\u001b[0m \u001b[0;34m<\u001b[0m \u001b[0;36m2\u001b[0m\u001b[0;34m:\u001b[0m\u001b[0;34m\u001b[0m\u001b[0;34m\u001b[0m\u001b[0m\n\u001b[0;32m--> 706\u001b[0;31m                 \u001b[0mout\u001b[0m \u001b[0;34m=\u001b[0m \u001b[0msparse_lsqr\u001b[0m\u001b[0;34m(\u001b[0m\u001b[0mX_centered\u001b[0m\u001b[0;34m,\u001b[0m \u001b[0my\u001b[0m\u001b[0;34m)\u001b[0m\u001b[0;34m\u001b[0m\u001b[0;34m\u001b[0m\u001b[0m\n\u001b[0m\u001b[1;32m    707\u001b[0m                 \u001b[0mself\u001b[0m\u001b[0;34m.\u001b[0m\u001b[0mcoef_\u001b[0m \u001b[0;34m=\u001b[0m \u001b[0mout\u001b[0m\u001b[0;34m[\u001b[0m\u001b[0;36m0\u001b[0m\u001b[0;34m]\u001b[0m\u001b[0;34m\u001b[0m\u001b[0;34m\u001b[0m\u001b[0m\n\u001b[1;32m    708\u001b[0m                 \u001b[0mself\u001b[0m\u001b[0;34m.\u001b[0m\u001b[0m_residues\u001b[0m \u001b[0;34m=\u001b[0m \u001b[0mout\u001b[0m\u001b[0;34m[\u001b[0m\u001b[0;36m3\u001b[0m\u001b[0;34m]\u001b[0m\u001b[0;34m\u001b[0m\u001b[0;34m\u001b[0m\u001b[0m\n",
      "\u001b[0;32m/opt/anaconda3/lib/python3.7/site-packages/scipy/sparse/linalg/isolve/lsqr.py\u001b[0m in \u001b[0;36mlsqr\u001b[0;34m(A, b, damp, atol, btol, conlim, iter_lim, show, calc_var, x0)\u001b[0m\n\u001b[1;32m    417\u001b[0m             \u001b[0mu\u001b[0m \u001b[0;34m=\u001b[0m \u001b[0;34m(\u001b[0m\u001b[0;36m1\u001b[0m\u001b[0;34m/\u001b[0m\u001b[0mbeta\u001b[0m\u001b[0;34m)\u001b[0m \u001b[0;34m*\u001b[0m \u001b[0mu\u001b[0m\u001b[0;34m\u001b[0m\u001b[0;34m\u001b[0m\u001b[0m\n\u001b[1;32m    418\u001b[0m             \u001b[0manorm\u001b[0m \u001b[0;34m=\u001b[0m \u001b[0msqrt\u001b[0m\u001b[0;34m(\u001b[0m\u001b[0manorm\u001b[0m\u001b[0;34m**\u001b[0m\u001b[0;36m2\u001b[0m \u001b[0;34m+\u001b[0m \u001b[0malfa\u001b[0m\u001b[0;34m**\u001b[0m\u001b[0;36m2\u001b[0m \u001b[0;34m+\u001b[0m \u001b[0mbeta\u001b[0m\u001b[0;34m**\u001b[0m\u001b[0;36m2\u001b[0m \u001b[0;34m+\u001b[0m \u001b[0mdampsq\u001b[0m\u001b[0;34m)\u001b[0m\u001b[0;34m\u001b[0m\u001b[0;34m\u001b[0m\u001b[0m\n\u001b[0;32m--> 419\u001b[0;31m             \u001b[0mv\u001b[0m \u001b[0;34m=\u001b[0m \u001b[0mA\u001b[0m\u001b[0;34m.\u001b[0m\u001b[0mrmatvec\u001b[0m\u001b[0;34m(\u001b[0m\u001b[0mu\u001b[0m\u001b[0;34m)\u001b[0m \u001b[0;34m-\u001b[0m \u001b[0mbeta\u001b[0m \u001b[0;34m*\u001b[0m \u001b[0mv\u001b[0m\u001b[0;34m\u001b[0m\u001b[0;34m\u001b[0m\u001b[0m\n\u001b[0m\u001b[1;32m    420\u001b[0m             \u001b[0malfa\u001b[0m \u001b[0;34m=\u001b[0m \u001b[0mnp\u001b[0m\u001b[0;34m.\u001b[0m\u001b[0mlinalg\u001b[0m\u001b[0;34m.\u001b[0m\u001b[0mnorm\u001b[0m\u001b[0;34m(\u001b[0m\u001b[0mv\u001b[0m\u001b[0;34m)\u001b[0m\u001b[0;34m\u001b[0m\u001b[0;34m\u001b[0m\u001b[0m\n\u001b[1;32m    421\u001b[0m             \u001b[0;32mif\u001b[0m \u001b[0malfa\u001b[0m \u001b[0;34m>\u001b[0m \u001b[0;36m0\u001b[0m\u001b[0;34m:\u001b[0m\u001b[0;34m\u001b[0m\u001b[0;34m\u001b[0m\u001b[0m\n",
      "\u001b[0;32m/opt/anaconda3/lib/python3.7/site-packages/scipy/sparse/linalg/interface.py\u001b[0m in \u001b[0;36mrmatvec\u001b[0;34m(self, x)\u001b[0m\n\u001b[1;32m    277\u001b[0m             \u001b[0;32mraise\u001b[0m \u001b[0mValueError\u001b[0m\u001b[0;34m(\u001b[0m\u001b[0;34m'dimension mismatch'\u001b[0m\u001b[0;34m)\u001b[0m\u001b[0;34m\u001b[0m\u001b[0;34m\u001b[0m\u001b[0m\n\u001b[1;32m    278\u001b[0m \u001b[0;34m\u001b[0m\u001b[0m\n\u001b[0;32m--> 279\u001b[0;31m         \u001b[0my\u001b[0m \u001b[0;34m=\u001b[0m \u001b[0mself\u001b[0m\u001b[0;34m.\u001b[0m\u001b[0m_rmatvec\u001b[0m\u001b[0;34m(\u001b[0m\u001b[0mx\u001b[0m\u001b[0;34m)\u001b[0m\u001b[0;34m\u001b[0m\u001b[0;34m\u001b[0m\u001b[0m\n\u001b[0m\u001b[1;32m    280\u001b[0m \u001b[0;34m\u001b[0m\u001b[0m\n\u001b[1;32m    281\u001b[0m         \u001b[0;32mif\u001b[0m \u001b[0misinstance\u001b[0m\u001b[0;34m(\u001b[0m\u001b[0mx\u001b[0m\u001b[0;34m,\u001b[0m \u001b[0mnp\u001b[0m\u001b[0;34m.\u001b[0m\u001b[0mmatrix\u001b[0m\u001b[0;34m)\u001b[0m\u001b[0;34m:\u001b[0m\u001b[0;34m\u001b[0m\u001b[0;34m\u001b[0m\u001b[0m\n",
      "\u001b[0;32m/opt/anaconda3/lib/python3.7/site-packages/scipy/sparse/linalg/interface.py\u001b[0m in \u001b[0;36m_rmatvec\u001b[0;34m(self, x)\u001b[0m\n\u001b[1;32m    534\u001b[0m         \u001b[0;32mif\u001b[0m \u001b[0mfunc\u001b[0m \u001b[0;32mis\u001b[0m \u001b[0;32mNone\u001b[0m\u001b[0;34m:\u001b[0m\u001b[0;34m\u001b[0m\u001b[0;34m\u001b[0m\u001b[0m\n\u001b[1;32m    535\u001b[0m             \u001b[0;32mraise\u001b[0m \u001b[0mNotImplementedError\u001b[0m\u001b[0;34m(\u001b[0m\u001b[0;34m\"rmatvec is not defined\"\u001b[0m\u001b[0;34m)\u001b[0m\u001b[0;34m\u001b[0m\u001b[0;34m\u001b[0m\u001b[0m\n\u001b[0;32m--> 536\u001b[0;31m         \u001b[0;32mreturn\u001b[0m \u001b[0mself\u001b[0m\u001b[0;34m.\u001b[0m\u001b[0m__rmatvec_impl\u001b[0m\u001b[0;34m(\u001b[0m\u001b[0mx\u001b[0m\u001b[0;34m)\u001b[0m\u001b[0;34m\u001b[0m\u001b[0;34m\u001b[0m\u001b[0m\n\u001b[0m\u001b[1;32m    537\u001b[0m \u001b[0;34m\u001b[0m\u001b[0m\n\u001b[1;32m    538\u001b[0m     \u001b[0;32mdef\u001b[0m \u001b[0m_rmatmat\u001b[0m\u001b[0;34m(\u001b[0m\u001b[0mself\u001b[0m\u001b[0;34m,\u001b[0m \u001b[0mX\u001b[0m\u001b[0;34m)\u001b[0m\u001b[0;34m:\u001b[0m\u001b[0;34m\u001b[0m\u001b[0;34m\u001b[0m\u001b[0m\n",
      "\u001b[0;32m/opt/anaconda3/lib/python3.7/site-packages/sklearn/linear_model/_base.py\u001b[0m in \u001b[0;36mrmatvec\u001b[0;34m(b)\u001b[0m\n\u001b[1;32m    697\u001b[0m \u001b[0;34m\u001b[0m\u001b[0m\n\u001b[1;32m    698\u001b[0m             \u001b[0;32mdef\u001b[0m \u001b[0mrmatvec\u001b[0m\u001b[0;34m(\u001b[0m\u001b[0mb\u001b[0m\u001b[0;34m)\u001b[0m\u001b[0;34m:\u001b[0m\u001b[0;34m\u001b[0m\u001b[0;34m\u001b[0m\u001b[0m\n\u001b[0;32m--> 699\u001b[0;31m                 \u001b[0;32mreturn\u001b[0m \u001b[0mX\u001b[0m\u001b[0;34m.\u001b[0m\u001b[0mT\u001b[0m\u001b[0;34m.\u001b[0m\u001b[0mdot\u001b[0m\u001b[0;34m(\u001b[0m\u001b[0mb\u001b[0m\u001b[0;34m)\u001b[0m \u001b[0;34m-\u001b[0m \u001b[0mX_offset_scale\u001b[0m \u001b[0;34m*\u001b[0m \u001b[0mnp\u001b[0m\u001b[0;34m.\u001b[0m\u001b[0msum\u001b[0m\u001b[0;34m(\u001b[0m\u001b[0mb\u001b[0m\u001b[0;34m)\u001b[0m\u001b[0;34m\u001b[0m\u001b[0;34m\u001b[0m\u001b[0m\n\u001b[0m\u001b[1;32m    700\u001b[0m \u001b[0;34m\u001b[0m\u001b[0m\n\u001b[1;32m    701\u001b[0m             X_centered = sparse.linalg.LinearOperator(\n",
      "\u001b[0;32m/opt/anaconda3/lib/python3.7/site-packages/scipy/sparse/base.py\u001b[0m in \u001b[0;36mdot\u001b[0;34m(self, other)\u001b[0m\n\u001b[1;32m    357\u001b[0m \u001b[0;34m\u001b[0m\u001b[0m\n\u001b[1;32m    358\u001b[0m         \"\"\"\n\u001b[0;32m--> 359\u001b[0;31m         \u001b[0;32mreturn\u001b[0m \u001b[0mself\u001b[0m \u001b[0;34m*\u001b[0m \u001b[0mother\u001b[0m\u001b[0;34m\u001b[0m\u001b[0;34m\u001b[0m\u001b[0m\n\u001b[0m\u001b[1;32m    360\u001b[0m \u001b[0;34m\u001b[0m\u001b[0m\n\u001b[1;32m    361\u001b[0m     \u001b[0;32mdef\u001b[0m \u001b[0mpower\u001b[0m\u001b[0;34m(\u001b[0m\u001b[0mself\u001b[0m\u001b[0;34m,\u001b[0m \u001b[0mn\u001b[0m\u001b[0;34m,\u001b[0m \u001b[0mdtype\u001b[0m\u001b[0;34m=\u001b[0m\u001b[0;32mNone\u001b[0m\u001b[0;34m)\u001b[0m\u001b[0;34m:\u001b[0m\u001b[0;34m\u001b[0m\u001b[0;34m\u001b[0m\u001b[0m\n",
      "\u001b[0;32m/opt/anaconda3/lib/python3.7/site-packages/scipy/sparse/base.py\u001b[0m in \u001b[0;36m__mul__\u001b[0;34m(self, other)\u001b[0m\n\u001b[1;32m    465\u001b[0m             \u001b[0;31m# Fast path for the most common case\u001b[0m\u001b[0;34m\u001b[0m\u001b[0;34m\u001b[0m\u001b[0;34m\u001b[0m\u001b[0m\n\u001b[1;32m    466\u001b[0m             \u001b[0;32mif\u001b[0m \u001b[0mother\u001b[0m\u001b[0;34m.\u001b[0m\u001b[0mshape\u001b[0m \u001b[0;34m==\u001b[0m \u001b[0;34m(\u001b[0m\u001b[0mN\u001b[0m\u001b[0;34m,\u001b[0m\u001b[0;34m)\u001b[0m\u001b[0;34m:\u001b[0m\u001b[0;34m\u001b[0m\u001b[0;34m\u001b[0m\u001b[0m\n\u001b[0;32m--> 467\u001b[0;31m                 \u001b[0;32mreturn\u001b[0m \u001b[0mself\u001b[0m\u001b[0;34m.\u001b[0m\u001b[0m_mul_vector\u001b[0m\u001b[0;34m(\u001b[0m\u001b[0mother\u001b[0m\u001b[0;34m)\u001b[0m\u001b[0;34m\u001b[0m\u001b[0;34m\u001b[0m\u001b[0m\n\u001b[0m\u001b[1;32m    468\u001b[0m             \u001b[0;32melif\u001b[0m \u001b[0mother\u001b[0m\u001b[0;34m.\u001b[0m\u001b[0mshape\u001b[0m \u001b[0;34m==\u001b[0m \u001b[0;34m(\u001b[0m\u001b[0mN\u001b[0m\u001b[0;34m,\u001b[0m \u001b[0;36m1\u001b[0m\u001b[0;34m)\u001b[0m\u001b[0;34m:\u001b[0m\u001b[0;34m\u001b[0m\u001b[0;34m\u001b[0m\u001b[0m\n\u001b[1;32m    469\u001b[0m                 \u001b[0;32mreturn\u001b[0m \u001b[0mself\u001b[0m\u001b[0;34m.\u001b[0m\u001b[0m_mul_vector\u001b[0m\u001b[0;34m(\u001b[0m\u001b[0mother\u001b[0m\u001b[0;34m.\u001b[0m\u001b[0mravel\u001b[0m\u001b[0;34m(\u001b[0m\u001b[0;34m)\u001b[0m\u001b[0;34m)\u001b[0m\u001b[0;34m.\u001b[0m\u001b[0mreshape\u001b[0m\u001b[0;34m(\u001b[0m\u001b[0mM\u001b[0m\u001b[0;34m,\u001b[0m \u001b[0;36m1\u001b[0m\u001b[0;34m)\u001b[0m\u001b[0;34m\u001b[0m\u001b[0;34m\u001b[0m\u001b[0m\n",
      "\u001b[0;32m/opt/anaconda3/lib/python3.7/site-packages/scipy/sparse/compressed.py\u001b[0m in \u001b[0;36m_mul_vector\u001b[0;34m(self, other)\u001b[0m\n\u001b[1;32m    476\u001b[0m         \u001b[0;31m# csr_matvec or csc_matvec\u001b[0m\u001b[0;34m\u001b[0m\u001b[0;34m\u001b[0m\u001b[0;34m\u001b[0m\u001b[0m\n\u001b[1;32m    477\u001b[0m         \u001b[0mfn\u001b[0m \u001b[0;34m=\u001b[0m \u001b[0mgetattr\u001b[0m\u001b[0;34m(\u001b[0m\u001b[0m_sparsetools\u001b[0m\u001b[0;34m,\u001b[0m \u001b[0mself\u001b[0m\u001b[0;34m.\u001b[0m\u001b[0mformat\u001b[0m \u001b[0;34m+\u001b[0m \u001b[0;34m'_matvec'\u001b[0m\u001b[0;34m)\u001b[0m\u001b[0;34m\u001b[0m\u001b[0;34m\u001b[0m\u001b[0m\n\u001b[0;32m--> 478\u001b[0;31m         \u001b[0mfn\u001b[0m\u001b[0;34m(\u001b[0m\u001b[0mM\u001b[0m\u001b[0;34m,\u001b[0m \u001b[0mN\u001b[0m\u001b[0;34m,\u001b[0m \u001b[0mself\u001b[0m\u001b[0;34m.\u001b[0m\u001b[0mindptr\u001b[0m\u001b[0;34m,\u001b[0m \u001b[0mself\u001b[0m\u001b[0;34m.\u001b[0m\u001b[0mindices\u001b[0m\u001b[0;34m,\u001b[0m \u001b[0mself\u001b[0m\u001b[0;34m.\u001b[0m\u001b[0mdata\u001b[0m\u001b[0;34m,\u001b[0m \u001b[0mother\u001b[0m\u001b[0;34m,\u001b[0m \u001b[0mresult\u001b[0m\u001b[0;34m)\u001b[0m\u001b[0;34m\u001b[0m\u001b[0;34m\u001b[0m\u001b[0m\n\u001b[0m\u001b[1;32m    479\u001b[0m \u001b[0;34m\u001b[0m\u001b[0m\n\u001b[1;32m    480\u001b[0m         \u001b[0;32mreturn\u001b[0m \u001b[0mresult\u001b[0m\u001b[0;34m\u001b[0m\u001b[0;34m\u001b[0m\u001b[0m\n",
      "\u001b[0;31mKeyboardInterrupt\u001b[0m: "
     ]
    }
   ],
   "source": [
    "from sklearn import set_config\n",
    "# Show pipeline as diagram\n",
    "set_config(display=\"diagram\")\n",
    "\n",
    "# Fit model\n",
    "lm_pipe.fit(X_train, y_train)\n",
    "\n",
    "# Obtain model coefficients\n",
    "lm_pipe.named_steps['lm'].coef_"
   ]
  },
  {
   "cell_type": "markdown",
   "metadata": {},
   "source": [
    "# Model Evaluation"
   ]
  },
  {
   "cell_type": "code",
   "execution_count": 138,
   "metadata": {},
   "outputs": [
    {
     "data": {
      "text/plain": [
       "2140.0031063445413"
      ]
     },
     "execution_count": 138,
     "metadata": {},
     "output_type": "execute_result"
    }
   ],
   "source": [
    "from sklearn.metrics import r2_score\n",
    "from sklearn.metrics import mean_squared_error\n",
    "from sklearn.metrics import mean_absolute_error\n",
    "\n",
    "\n",
    "# obtain predictions for training data\n",
    "y_pred = lm_pipe.predict(X_train)\n",
    "\n",
    "# R squared\n",
    "r2_score(y_train, y_pred) \n",
    "\n",
    "# MSE\n",
    "mean_squared_error(y_train, y_pred)\n",
    "\n",
    "# RMSE\n",
    "mean_squared_error(y_train, y_pred, squared=False)\n",
    "\n",
    "# MAE\n",
    "mean_absolute_error(y_train, y_pred)\n",
    "\n"
   ]
  },
  {
   "cell_type": "code",
   "execution_count": 139,
   "metadata": {},
   "outputs": [
    {
     "data": {
      "image/png": "[encoded data removed]",
      "text/plain": [
       "<Figure size 432x288 with 1 Axes>"
      ]
     },
     "metadata": {
      "filenames": {
       "image/png": "/Users/hendrikpfeifer/MLOps_SoSe22/mlops_docu/_build/jupyter_execute/model_1_SK-learn_71_0.png"
      }
     },
     "output_type": "display_data"
    }
   ],
   "source": [
    "sns.residplot(x=y_pred, y=y_train, scatter_kws={\"s\": 80});"
   ]
  },
  {
   "cell_type": "markdown",
   "metadata": {},
   "source": [
    "# Model Tuning"
   ]
  },
  {
   "cell_type": "code",
   "execution_count": 145,
   "metadata": {},
   "outputs": [
    {
     "name": "stdout",
     "output_type": "stream",
     "text": [
      "Best parameter (CV score=0.924):\n",
      "{'logistic__C': 0.046415888336127774, 'pca__n_components': 60}\n"
     ]
    }
   ],
   "source": [
    "import numpy as np\n",
    "from sklearn import datasets\n",
    "from sklearn.decomposition import PCA\n",
    "from sklearn.linear_model import LogisticRegression\n",
    "from sklearn.pipeline import Pipeline\n",
    "from sklearn.model_selection import GridSearchCV\n",
    "from sklearn.preprocessing import StandardScaler\n",
    "\n",
    "# Pipeline\n",
    "pipe = Pipeline(steps=[\n",
    "    (\"scaler\", StandardScaler()), \n",
    "    (\"pca\", PCA()), \n",
    "    (\"logistic\", LogisticRegression(max_iter=10000, tol=0.1))])\n",
    "\n",
    "# Data\n",
    "X_digits, y_digits = datasets.load_digits(return_X_y=True)\n",
    "\n",
    "# Parameters of pipelines can be set using ‘__’ separated parameter names:\n",
    "param_grid = {\n",
    "    \"pca__n_components\": [5, 15, 30, 45, 60],\n",
    "    \"logistic__C\": np.logspace(-4, 4, 4),\n",
    "}\n",
    "\n",
    "# Gridsearch\n",
    "search = GridSearchCV(pipe, param_grid, n_jobs=2)\n",
    "search.fit(X_digits, y_digits)\n",
    "\n",
    "# Show results\n",
    "print(\"Best parameter (CV score=%0.3f):\" % search.best_score_)\n",
    "print(search.best_params_)"
   ]
  },
  {
   "cell_type": "markdown",
   "metadata": {},
   "source": [
    "# Evaluate best model"
   ]
  },
  {
   "cell_type": "code",
   "execution_count": null,
   "metadata": {},
   "outputs": [],
   "source": []
  },
  {
   "cell_type": "markdown",
   "metadata": {},
   "source": [
    "# Evaluate on test set"
   ]
  },
  {
   "cell_type": "code",
   "execution_count": 149,
   "metadata": {},
   "outputs": [
    {
     "name": "stdout",
     "output_type": "stream",
     "text": [
      "MSE: 12413603.671531325\n",
      "RMSE: 3523.294434408133\n"
     ]
    }
   ],
   "source": [
    "y_pred = lm_pipe.predict(X_test)\n",
    "\n",
    "print('MSE:', mean_squared_error(y_test, y_pred))\n",
    "\n",
    "print('RMSE:', mean_squared_error(y_test, y_pred, squared=False))\n"
   ]
  },
  {
   "cell_type": "code",
   "execution_count": null,
   "metadata": {},
   "outputs": [],
   "source": []
  }
 ],
 "metadata": {
  "interpreter": {
   "hash": "335060b61a67eb4c401d5f3f6b1f258d6cc22aa566029d9507a631182a43c50d"
  },
  "kernelspec": {
   "display_name": "Python 3.9.7",
   "language": "python",
   "name": "python3"
  },
  "language_info": {
   "codemirror_mode": {
    "name": "ipython",
    "version": 3
   },
   "file_extension": ".py",
   "mimetype": "text/x-python",
   "name": "python",
   "nbconvert_exporter": "python",
   "pygments_lexer": "ipython3",
   "version": "3.7.11"
  }
 },
 "nbformat": 4,
 "nbformat_minor": 2
}