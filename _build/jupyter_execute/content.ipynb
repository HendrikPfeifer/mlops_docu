{
 "cells": [
  {
   "cell_type": "markdown",
   "metadata": {},
   "source": [
    "# Content of the documentation\n",
    "\n",
    "#### Below you can find the full MLOps-documentation.\n",
    "\n",
    "\n",
    "## Goal of the project:\n",
    "\n",
    "#### To develop a prototype dashboard containing a sensitivity analysis which could be used from a business user to easily simulate different scenarios and to understand the effect in a model-agnostic way."
   ]
  },
  {
   "cell_type": "markdown",
   "id": "85373692",
   "metadata": {},
   "source": [
    "\n",
    "```{toctree}\n",
    ":hidden:\n",
    ":titlesonly:\n",
    "\n",
    "\n",
    "01_business_case\n",
    "02_data_analysis\n",
    "03_data_preperation\n",
    "04_models\n",
    "05_deployment\n",
    "```\n"
   ]
  }
 ],
 "metadata": {
  "language_info": {
   "codemirror_mode": {
    "name": "ipython",
    "version": 3
   },
   "file_extension": ".py",
   "mimetype": "text/x-python",
   "name": "python",
   "nbconvert_exporter": "python",
   "pygments_lexer": "ipython3",
   "version": "3.7.11"
  }
 },
 "nbformat": 4,
 "nbformat_minor": 2
}