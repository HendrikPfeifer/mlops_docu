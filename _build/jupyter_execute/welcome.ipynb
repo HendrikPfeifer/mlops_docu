{
 "cells": [
  {
   "cell_type": "markdown",
   "metadata": {},
   "source": [
    "# Welcome to the documentation\n",
    "\n",
    "### This is a book to give you an overview about the progess of my the MLOps-project concerning the “Used car prices”-dataset.\n",
    "\n",
    "Check out the full documentation on the content pages below."
   ]
  },
  {
   "cell_type": "markdown",
   "id": "4a8eecea",
   "metadata": {},
   "source": [
    "\n",
    "```{toctree}\n",
    ":hidden:\n",
    ":titlesonly:\n",
    "\n",
    "\n",
    "content\n",
    "```\n"
   ]
  }
 ],
 "metadata": {
  "language_info": {
   "codemirror_mode": {
    "name": "ipython",
    "version": 3
   },
   "file_extension": ".py",
   "mimetype": "text/x-python",
   "name": "python",
   "nbconvert_exporter": "python",
   "pygments_lexer": "ipython3",
   "version": "3.7.11"
  }
 },
 "nbformat": 4,
 "nbformat_minor": 2
}