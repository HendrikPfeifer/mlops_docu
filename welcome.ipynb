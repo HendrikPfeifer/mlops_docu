{
 "cells": [
  {
   "cell_type": "markdown",
   "metadata": {},
   "source": [
    "# Welcome to the documentation\n",
    "\n",
    "### This is a book to give you an overview about the progess of my the MLOps-project concerning the “Used car prices”-dataset.\n",
    "\n",
    "Check out the full documentation on the content pages below."
   ]
  }
 ],
 "metadata": {
  "language_info": {
   "name": "python"
  },
  "orig_nbformat": 4
 },
 "nbformat": 4,
 "nbformat_minor": 2
}
